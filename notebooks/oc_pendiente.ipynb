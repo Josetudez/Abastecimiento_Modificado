{
 "cells": [
  {
   "cell_type": "code",
   "execution_count": 1,
   "metadata": {},
   "outputs": [],
   "source": [
    "# Configurar el path para importar los módulos\n",
    "import sys\n",
    "import os\n",
    "\n",
    "# Añadir el directorio raíz del proyecto al path\n",
    "root_dir = os.chdir(os.path.abspath(os.path.join(os.getcwd(), '..')))\n",
    "if root_dir not in sys.path:\n",
    "    sys.path.append(root_dir)"
   ]
  },
  {
   "cell_type": "code",
   "execution_count": 2,
   "metadata": {},
   "outputs": [],
   "source": [
    "# Importar las funciones necesarias\n",
    "from db.conexion_db import crear_conexion, cerrar_conexion\n",
    "from db.querys_db import insert_data, consult_data,procedure_data\n",
    "from abastecimiento import reservas_avisorden_ordenes\n",
    "from cruce_inventario import cruce_inventarios\n",
    "import pandas as pd\n",
    "import numpy as np"
   ]
  },
  {
   "cell_type": "code",
   "execution_count": 3,
   "metadata": {},
   "outputs": [],
   "source": [
    "tbl_pedidos_pendientes = 'tbl_pedidospendientes_me2n'\n",
    "plan_pedidospendientes= 'plan_pedidospendientes'\n",
    "rpt_estado_compras_pendientes = 'rpt_estado_compras_pendientes'\n",
    "plan_pedidospendientes_resumen = 'plan_pedidospendientes_resumen'\n",
    "plan_trazabilidad = \"plan_trazabilidad_compras\"\n",
    "\n",
    "cabezeras_estado_compra = ['id','fechacarga','doc_compra','pos','contr','pos1','orgc','un','rep','cl_documento','tipo_documento','grupo_documento','Hist_ped','Fecha_doc','Nombre_proveedor','Centro_suministrador','Material','txt_breve','Gpo_articulo','I_borrado',\n",
    "                        'T_posicion','T_imp','Centro','Alm','Cantidad','Por_entr_Ctd','UMP','Precio_neto','Valor_neto','Val_pend_total','Val_pend','Por_entr_valor','Moneda','c_base','ctd_reparto','Fecha_entrega','Hora','Fech_entr_estad','Ctd_ante','Ctd_ent',\n",
    "                        'Salida','Ctd_entr','Pedido','Pos_pedido','Ind_creacion','Ctd_posicion','Num_necesidad','Fech_solicitud','Fe_pedido','Fe_entr_pre','Fe_doc_en','Estado','Liberador_1','Liberador_2','Liberador_3','Liberador_4','Creador_doc_comp']\n",
    "\n"
   ]
  },
  {
   "cell_type": "code",
   "execution_count": 4,
   "metadata": {},
   "outputs": [
    {
     "name": "stdout",
     "output_type": "stream",
     "text": [
      "Conexion Exitosa\n",
      "El procedimiento se ah ejecutado correctamente\n",
      "conexion cerrada\n"
     ]
    }
   ],
   "source": [
    "connection = crear_conexion()\n",
    "consult_data(connection,f\"truncate table {plan_pedidospendientes}\")\n",
    "consult_data(connection,f\"truncate table {rpt_estado_compras_pendientes}\")\n",
    "consult_data(connection,f\"truncate table {plan_pedidospendientes_resumen}\")\n",
    "insert_plan_pedidospendiente = f\"insert into {plan_pedidospendientes} select * from {tbl_pedidos_pendientes} where fechacarga = (select max(fechacarga) from {tbl_pedidos_pendientes}) \"\n",
    "consult_data(connection,insert_plan_pedidospendiente)\n",
    "\n",
    "procedure_data(connection,'abastece_plan_trazabilidad')\n",
    "cerrar_conexion(connection)"
   ]
  },
  {
   "cell_type": "code",
   "execution_count": 5,
   "metadata": {},
   "outputs": [
    {
     "name": "stdout",
     "output_type": "stream",
     "text": [
      "Conexion Exitosa\n",
      "conexion cerrada\n"
     ]
    }
   ],
   "source": [
    "connection = crear_conexion()\n",
    "pedidospendiente = consult_data(connection,f\"select * from {plan_pedidospendientes}\")\n",
    "trazabilidad = consult_data(connection,f\"select Fech_solicitud,Fe_pedido,Fe_entr_pre,Fe_doc_en,Estado,Liberador_1,Liberador_2,Liberador_3,Liberador_4,Creador_doc_comp,Doc_compra,Pos_doc_cmp from {plan_trazabilidad}\")\n",
    "cerrar_conexion(connection)"
   ]
  },
  {
   "cell_type": "code",
   "execution_count": 6,
   "metadata": {},
   "outputs": [],
   "source": [
    "tbl_pedidos_pendiente = pd.DataFrame(pedidospendiente)\n",
    "tbl_trazabalidad_Compras = pd.DataFrame(trazabilidad)"
   ]
  },
  {
   "cell_type": "code",
   "execution_count": 7,
   "metadata": {},
   "outputs": [],
   "source": [
    "tbl_pedidos_pendiente['identificador'] = tbl_pedidos_pendiente['doc_compra'] + tbl_pedidos_pendiente['pos']\n",
    "tbl_trazabalidad_Compras['identificador'] = tbl_trazabalidad_Compras['Doc_compra'] + tbl_trazabalidad_Compras['Pos_doc_cmp']"
   ]
  },
  {
   "cell_type": "code",
   "execution_count": 8,
   "metadata": {},
   "outputs": [],
   "source": [
    "pedidos_trazabilidad= tbl_pedidos_pendiente.merge(tbl_trazabalidad_Compras,how='left',on='identificador')"
   ]
  },
  {
   "cell_type": "code",
   "execution_count": 9,
   "metadata": {},
   "outputs": [],
   "source": [
    "pedidos_trazabilidad.drop(columns='Doc_compra',inplace=True)\n",
    "pedidos_trazabilidad.drop(columns='Pos_doc_cmp',inplace=True)\n",
    "pedidos_trazabilidad.drop(columns='id',inplace=True)\n",
    "pedidos_trazabilidad.drop(columns='fechacarga',inplace=True)"
   ]
  },
  {
   "cell_type": "code",
   "execution_count": 36,
   "metadata": {},
   "outputs": [],
   "source": [
    "filtrar_pedidosxtrazabilidad = pedidos_trazabilidad.loc[pedidos_trazabilidad['Estado'].isin(['APROBADO','PENDIENTE DE APROBACIÓN'])]"
   ]
  },
  {
   "cell_type": "code",
   "execution_count": null,
   "metadata": {},
   "outputs": [],
   "source": [
    "filtrar_pedidosxtrazabilidad.loc[:, 'Hora'] = pd.to_timedelta(filtrar_pedidosxtrazabilidad['Hora']).apply(lambda x: str(x).split()[2])"
   ]
  },
  {
   "cell_type": "code",
   "execution_count": null,
   "metadata": {},
   "outputs": [],
   "source": [
    "connection = crear_conexion()\n",
    "insert_data(connection,rpt_estado_compras_pendientes,filtrar_pedidosxtrazabilidad,cabezeras_estado_compra,batch_size=1000)\n",
    "\n",
    "insert_plan_pedidospendiente_resumen = f\"insert into  {plan_pedidospendientes_resumen} select id,doc_compra,pos,material,centro,por_entr_ctd,fecha_entrega,pedido,num_necesidad,nombre_proveedor from {rpt_estado_compras_pendientes} where por_entr_ctd > 0\"\n",
    "\n",
    "consult_data(connection,insert_plan_pedidospendiente_resumen)\n",
    "cerrar_conexion(connection)"
   ]
  }
 ],
 "metadata": {
  "kernelspec": {
   "display_name": ".venv",
   "language": "python",
   "name": "python3"
  },
  "language_info": {
   "codemirror_mode": {
    "name": "ipython",
    "version": 3
   },
   "file_extension": ".py",
   "mimetype": "text/x-python",
   "name": "python",
   "nbconvert_exporter": "python",
   "pygments_lexer": "ipython3",
   "version": "3.12.5"
  }
 },
 "nbformat": 4,
 "nbformat_minor": 2
}
