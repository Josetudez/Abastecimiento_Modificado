{
 "cells": [
  {
   "cell_type": "code",
   "execution_count": 1,
   "metadata": {},
   "outputs": [],
   "source": [
    "# Configurar el path para importar los módulos\n",
    "import sys\n",
    "import os\n",
    "\n",
    "# Añadir el directorio raíz del proyecto al path\n",
    "root_dir = os.chdir(os.path.abspath(os.path.join(os.getcwd(), '..')))\n",
    "if root_dir not in sys.path:\n",
    "    sys.path.append(root_dir)"
   ]
  },
  {
   "cell_type": "code",
   "execution_count": 2,
   "metadata": {},
   "outputs": [],
   "source": [
    "# Importar las funciones necesarias\n",
    "from db.conexion_db import crear_conexion, cerrar_conexion\n",
    "from db.querys_db import insert_data, consult_data\n",
    "import pandas as pd\n",
    "import numpy as np"
   ]
  },
  {
   "cell_type": "code",
   "execution_count": 3,
   "metadata": {},
   "outputs": [],
   "source": [
    "tbl_inventario_mb52 = 'plan_inventario_mb52'\n",
    "tbl_inventario_ewm = 'plan_inventario_scwm'\n",
    "tbl_cruce_inventario = 'cruce_inventario'\n",
    "\n",
    "cabezeras_cruce_inventario = ['union','material','materialtxt','centro','tipomaterial','grupoarticulo','ctd_total_mb52','Producto','propietario','Sin_Asignacion','Ctd_Garantia','Ctd_nuevo','Ctd_reparacion','ctd_total_scwm','diferencia_stocks']"
   ]
  },
  {
   "cell_type": "code",
   "execution_count": 6,
   "metadata": {},
   "outputs": [
    {
     "name": "stdout",
     "output_type": "stream",
     "text": [
      "Conexion Exitosa\n"
     ]
    }
   ],
   "source": [
    "connection = crear_conexion()\n",
    "consult_data(connection,f\"truncate table {tbl_cruce_inventario}\")\n",
    "\n",
    "inventario_mb52 = consult_data(connection,f\"select * from {tbl_inventario_mb52}\")\n",
    "inventario_ewm = consult_data(connection,f\"select Producto,Propietario,Lote,Tipo_stock,ctd_producto from {tbl_inventario_ewm}\")"
   ]
  },
  {
   "cell_type": "code",
   "execution_count": 7,
   "metadata": {},
   "outputs": [],
   "source": [
    "inventario_mb = pd.DataFrame(inventario_mb52)\n",
    "inventario_sc = pd.DataFrame(inventario_ewm)"
   ]
  },
  {
   "cell_type": "code",
   "execution_count": 6,
   "metadata": {},
   "outputs": [],
   "source": [
    "filtrar_inventario_mb = inventario_mb.loc[inventario_mb['alm'].isin(['0002','0012'])].reset_index()\n",
    "agrupar_inventario_mb = filtrar_inventario_mb.groupby(['material','materialtxt','centro','tipomaterial','grupoarticulo'])['cantidad'].sum().reset_index()\n",
    "agrupar_inventario_mb['union'] = agrupar_inventario_mb['material'] +''+agrupar_inventario_mb['centro']\n",
    "\n",
    "\n",
    "filtrar_inventario_sc = inventario_sc.loc[inventario_sc['Tipo_stock'].isin(['S2','M2'])].reset_index()\n",
    "pivotear_inventario_sc = filtrar_inventario_sc.pivot_table(index=['Producto','Propietario'],columns='Lote',values='ctd_producto', aggfunc='sum',fill_value=0)\n",
    "inv_sc = pivotear_inventario_sc.reset_index()\n",
    "inv_sc.rename(columns={inv_sc.columns[3]:'Sin_Asignacion'},inplace=True)\n",
    "inv_sc['union'] = inv_sc['Producto']+''+inv_sc['Propietario']\n",
    "\n",
    "\n",
    "union_inventarios = agrupar_inventario_mb.merge(inv_sc, how=\"left\", on=\"union\")\n",
    "reorganizar_inv = union_inventarios.reindex(['union','material','materialtxt','centro','tipomaterial','grupoarticulo','cantidad','Producto','propietario','Sin_Asignacion','GARAN','NUEVO','REPAR'], axis=1)\n",
    "\n",
    "reorganizar_inv[['Sin_Asignacion','GARAN','NUEVO','REPAR','cantidad']] = reorganizar_inv[['Sin_Asignacion','GARAN','NUEVO','REPAR','cantidad']].replace({np.nan: 0})\n",
    "\n",
    "reorganizar_inv['total_2'] = reorganizar_inv['Sin_Asignacion'].astype(float)+ reorganizar_inv['GARAN'].astype(float)+ reorganizar_inv['NUEVO'].astype(float)+reorganizar_inv['REPAR'].astype(float)\n",
    "diferencia_stock = reorganizar_inv.copy()\n",
    "\n",
    "diferencia_stock['dif_stock'] = diferencia_stock['cantidad'].astype(float) - diferencia_stock['total_2'].astype(float)\n",
    "dif_inv = diferencia_stock.copy()\n",
    "\n",
    "dif_inv = dif_inv.replace({np.nan : None})"
   ]
  }
 ],
 "metadata": {
  "kernelspec": {
   "display_name": ".venv",
   "language": "python",
   "name": "python3"
  },
  "language_info": {
   "codemirror_mode": {
    "name": "ipython",
    "version": 3
   },
   "file_extension": ".py",
   "mimetype": "text/x-python",
   "name": "python",
   "nbconvert_exporter": "python",
   "pygments_lexer": "ipython3",
   "version": "3.12.5"
  }
 },
 "nbformat": 4,
 "nbformat_minor": 2
}
