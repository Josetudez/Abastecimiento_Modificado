{
 "cells": [
  {
   "cell_type": "code",
   "execution_count": 1,
   "metadata": {},
   "outputs": [],
   "source": [
    "# Configurar el path para importar los módulos\n",
    "import sys\n",
    "import os\n",
    "\n",
    "# Añadir el directorio raíz del proyecto al path\n",
    "root_dir = os.chdir(os.path.abspath(os.path.join(os.getcwd(), '..')))\n",
    "if root_dir not in sys.path:\n",
    "    sys.path.append(root_dir)"
   ]
  },
  {
   "cell_type": "code",
   "execution_count": 2,
   "metadata": {},
   "outputs": [],
   "source": [
    "# Importar las funciones necesarias\n",
    "from db.conexion_db import crear_conexion, cerrar_conexion\n",
    "from db.querys_db import insert_data, consult_data,procedure_data\n",
    "from abastecimiento import reservas_avisorden_ordenes\n",
    "from oc_pendientes import pedidospendiente\n",
    "from cruce_inventario import cruce_inventarios\n",
    "import pandas as pd\n",
    "import numpy as np"
   ]
  },
  {
   "cell_type": "code",
   "execution_count": 7,
   "metadata": {},
   "outputs": [
    {
     "name": "stdout",
     "output_type": "stream",
     "text": [
      "Conexion Exitosa\n",
      "conexion cerrada\n"
     ]
    }
   ],
   "source": [
    "connection = crear_conexion()\n",
    "reservas = reservas_avisorden_ordenes(connection)\n",
    "cerrar_conexion(connection)"
   ]
  },
  {
   "cell_type": "code",
   "execution_count": 6,
   "metadata": {},
   "outputs": [
    {
     "name": "stdout",
     "output_type": "stream",
     "text": [
      "Conexion Exitosa\n",
      "Se insertaron: 15206 registros. en la tabla cruce_inventario\n",
      "conexion cerrada\n"
     ]
    }
   ],
   "source": [
    "connection = crear_conexion()\n",
    "inventario_cruce = cruce_inventarios(connection)"
   ]
  },
  {
   "cell_type": "code",
   "execution_count": null,
   "metadata": {},
   "outputs": [],
   "source": [
    "pl_pedidospendientes = \"plan_pedidospendientes_resumen\"\n",
    "pl_inventarioMB52 = \"plan_inventario_resumen\"\n",
    "\n",
    "connection = crear_conexion()\n",
    "if not connection:\n",
    "    print(\"Error en la conexion a la base de datos\")\n",
    "\n",
    "planpedidospendientes = consult_data(connection,f\"select * from {pl_pedidospendientes}\")\n",
    "planinventarioresumen = consult_data(connection,f\"select * from {pl_inventarioMB52}\")"
   ]
  },
  {
   "cell_type": "code",
   "execution_count": null,
   "metadata": {},
   "outputs": [],
   "source": []
  }
 ],
 "metadata": {
  "kernelspec": {
   "display_name": ".venv",
   "language": "python",
   "name": "python3"
  },
  "language_info": {
   "codemirror_mode": {
    "name": "ipython",
    "version": 3
   },
   "file_extension": ".py",
   "mimetype": "text/x-python",
   "name": "python",
   "nbconvert_exporter": "python",
   "pygments_lexer": "ipython3",
   "version": "3.12.5"
  }
 },
 "nbformat": 4,
 "nbformat_minor": 2
}
