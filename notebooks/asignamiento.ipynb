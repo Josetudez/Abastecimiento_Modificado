{
 "cells": [
  {
   "cell_type": "code",
   "execution_count": 1,
   "metadata": {},
   "outputs": [],
   "source": [
    "# Configurar el path para importar los módulos\n",
    "import sys\n",
    "import os\n",
    "\n",
    "# Añadir el directorio raíz del proyecto al path\n",
    "root_dir = os.chdir(os.path.abspath(os.path.join(os.getcwd(), '..')))\n",
    "if root_dir not in sys.path:\n",
    "    sys.path.append(root_dir)"
   ]
  },
  {
   "cell_type": "code",
   "execution_count": null,
   "metadata": {},
   "outputs": [],
   "source": [
    "# Importar las funciones necesarias\n",
    "from db.conexion_db import crear_conexion, cerrar_conexion\n",
    "from db.querys_db import insert_data, consult_data,procedure_data,procedure_data_param\n",
    "from abastecimiento import reservas_avisorden_ordenes\n",
    "from datetime import datetime, timedelta\n",
    "import pandas as pd\n",
    "import numpy as np"
   ]
  },
  {
   "cell_type": "code",
   "execution_count": 3,
   "metadata": {},
   "outputs": [
    {
     "name": "stdout",
     "output_type": "stream",
     "text": [
      "Conexion Exitosa\n",
      "El procedimiento se ah ejecutado correctamente\n",
      "El procedimiento se ah ejecutado correctamente\n",
      "El procedimiento se ah ejecutado correctamente\n",
      "El procedimiento se ah ejecutado correctamente\n",
      "El procedimiento se ha ejecutado correctamente\n",
      "conexion cerrada\n"
     ]
    }
   ],
   "source": [
    "connection = crear_conexion()\n",
    "procedure_data(connection,\"abastece_plan_reservas\")\n",
    "procedure_data(connection,\"abastece_plan_avisorden\")\n",
    "procedure_data(connection,\"abastece_plan_ordenes\")\n",
    "procedure_data(connection,'abastece_plan_flota')\n",
    "procedure_data_param(connection, \"abastece_plan_pedidospendiente\", ('2024-11-01',))   \n",
    "cerrar_conexion(connection)"
   ]
  },
  {
   "cell_type": "code",
   "execution_count": 4,
   "metadata": {},
   "outputs": [
    {
     "name": "stdout",
     "output_type": "stream",
     "text": [
      "Conexion Exitosa\n",
      "El procedimiento se ah ejecutado correctamente\n",
      "conexion cerrada\n"
     ]
    }
   ],
   "source": [
    "connection = crear_conexion()\n",
    "procedure_data(connection,\"abastece_plan_inv_mb52\")       \n",
    "cerrar_conexion(connection)                                                                                                                                                                                                                                                                                                                                                                                                                                                                                                                                                                                                                                                                                                                                                                                                                                                                                                                                                                                                                                                                                                     "
   ]
  },
  {
   "cell_type": "code",
   "execution_count": 5,
   "metadata": {},
   "outputs": [
    {
     "name": "stdout",
     "output_type": "stream",
     "text": [
      "Conexion Exitosa\n",
      "conexion cerrada\n"
     ]
    }
   ],
   "source": [
    "connection = crear_conexion()\n",
    "reservas = reservas_avisorden_ordenes(connection)\n",
    "cerrar_conexion(connection)"
   ]
  },
  {
   "cell_type": "code",
   "execution_count": 6,
   "metadata": {},
   "outputs": [
    {
     "name": "stdout",
     "output_type": "stream",
     "text": [
      "Conexion Exitosa\n",
      "conexion cerrada\n"
     ]
    }
   ],
   "source": [
    "connection = crear_conexion()\n",
    "flota = consult_data(connection,f\"select equipo,linegnombre from plan_flota\")\n",
    "cerrar_conexion(connection)"
   ]
  },
  {
   "cell_type": "code",
   "execution_count": 7,
   "metadata": {},
   "outputs": [
    {
     "name": "stdout",
     "output_type": "stream",
     "text": [
      "Conexion Exitosa\n",
      "conexion cerrada\n"
     ]
    }
   ],
   "source": [
    "connection = crear_conexion()\n",
    "estado_pedidosxpendiente = consult_data(connection,f\"select * from plan_pedidospendientes_resumen\")\n",
    "cerrar_conexion(connection)"
   ]
  },
  {
   "cell_type": "code",
   "execution_count": 8,
   "metadata": {},
   "outputs": [
    {
     "name": "stdout",
     "output_type": "stream",
     "text": [
      "Conexion Exitosa\n",
      "conexion cerrada\n"
     ]
    }
   ],
   "source": [
    "pl_inventarioMB52 = \"plan_inventario_resumen\"\n",
    "connection = crear_conexion()\n",
    "planinventarioresumen = consult_data(connection,f\"select material,centro,total from {pl_inventarioMB52}\")\n",
    "cerrar_conexion(connection)"
   ]
  },
  {
   "cell_type": "code",
   "execution_count": 9,
   "metadata": {},
   "outputs": [],
   "source": [
    "tbl_inventario_resumen = pd.DataFrame(planinventarioresumen)\n",
    "tbl_flota = pd.DataFrame(flota)\n",
    "tbl_estado_pedidosxpendiente = pd.DataFrame(estado_pedidosxpendiente)"
   ]
  },
  {
   "cell_type": "code",
   "execution_count": 10,
   "metadata": {},
   "outputs": [],
   "source": [
    "\n",
    "tbl_estado_pedidosxpendiente['identificador'] = tbl_estado_pedidosxpendiente['doc_compra'] + tbl_estado_pedidosxpendiente['pos']"
   ]
  },
  {
   "cell_type": "code",
   "execution_count": 11,
   "metadata": {},
   "outputs": [],
   "source": [
    "filtrar_cabezeras_estadoxpedidos = tbl_estado_pedidosxpendiente[['identificador','doc_compra','material','centro','por_entr_ctd','fecha_entrega','nombre_proveedor']].copy()\n",
    "tbl_inventario_resumen['total'] = tbl_inventario_resumen['total'].astype(float)\n",
    "filtrar_cabezeras_estadoxpedidos['por_entr_ctd'] = filtrar_cabezeras_estadoxpedidos['por_entr_ctd'].astype(float)\n",
    "filtrar_cabezeras_estadoxpedidos['fecha_entrega'] = pd.to_datetime(filtrar_cabezeras_estadoxpedidos['fecha_entrega'])\n",
    "filtrar_cabezeras_estadoxpedidos['nombre_proveedor'] = filtrar_cabezeras_estadoxpedidos['nombre_proveedor'].str[0:10]"
   ]
  },
  {
   "cell_type": "code",
   "execution_count": 12,
   "metadata": {},
   "outputs": [],
   "source": [
    "reservasCxC = reservas.loc[(reservas['ate_accion']=='MERCADERIA') & (reservas['ctd_dif'] > 0) ]\n",
    "filtrar_cabezeras_reservasCxC = reservasCxC[['index','identificador','material','centro_x','ctd_dif','stock_asignado','trasl_ctd_C154','trasl_ctd_C040',\n",
    "                                             'trasl_ctd_C080','trasl_ctd_C200','trasl_ctd_C152','trasl_fecha','Ped_nro','Ped_Fecha','Ped_ctd','Ped_proveedor']].copy()"
   ]
  },
  {
   "cell_type": "code",
   "execution_count": 13,
   "metadata": {},
   "outputs": [],
   "source": [
    "filtrar_cabezeras_estadoxpedidos.columns = filtrar_cabezeras_estadoxpedidos.columns.str.lower()\n",
    "filtrar_cabezeras_reservasCxC.rename(columns={'centro_x' : 'centro'},inplace=True)"
   ]
  },
  {
   "cell_type": "code",
   "execution_count": 14,
   "metadata": {},
   "outputs": [],
   "source": [
    "filtrar_cabezeras_estadoxpedidos.loc[:,'material'] = filtrar_cabezeras_estadoxpedidos.loc[:,'material'].str.replace(' ','')\n",
    "tbl_inventario_resumen.loc[:,'material'] = tbl_inventario_resumen.loc[:,'material'].str.replace(' ','')\n",
    "filtrar_cabezeras_reservasCxC.loc[:,'material'] = filtrar_cabezeras_reservasCxC.loc[:,'material'].str.replace(' ','')"
   ]
  },
  {
   "cell_type": "code",
   "execution_count": 15,
   "metadata": {},
   "outputs": [],
   "source": [
    "tbl_inventario_resumen['identificador'] = tbl_inventario_resumen['material'] + tbl_inventario_resumen['centro']"
   ]
  },
  {
   "cell_type": "code",
   "execution_count": 16,
   "metadata": {},
   "outputs": [],
   "source": [
    "def _asign_stock_centros(reservas_grupo, inventario_grupo):\n",
    "    # Obtener el stock disponible para el grupo\n",
    "    stock_disponible = inventario_grupo['total'].iloc[0]\n",
    "    \n",
    "    # Inicializar la cantidad asignada\n",
    "    cantidad_asignada = []\n",
    "    stock_restante = stock_disponible\n",
    "    \n",
    "    # Calcular la cantidad asignada para cada reserva\n",
    "    for ctd_dif in reservas_grupo['ctd_dif']:\n",
    "        if stock_restante <= 0:\n",
    "            # Si no hay stock disponible, asignar 0\n",
    "            cantidad_asignada.append(0.0)\n",
    "        else:\n",
    "            # Asignar la cantidad mínima entre lo pedido y el stock restante\n",
    "            asignacion = min(ctd_dif, stock_restante)\n",
    "            cantidad_asignada.append(asignacion)\n",
    "            stock_restante -= asignacion\n",
    "    \n",
    "    # Asignar la cantidad ajustada usando .loc para evitar SettingWithCopyWarning\n",
    "    reservas_grupo.loc[:, 'stock_asignado'] = cantidad_asignada\n",
    "    \n",
    "    # Actualizar el inventario restante\n",
    "    inventario_grupo.loc[:, 'total'] = stock_restante\n",
    "    \n",
    "    return reservas_grupo, inventario_grupo"
   ]
  },
  {
   "cell_type": "code",
   "execution_count": 17,
   "metadata": {},
   "outputs": [],
   "source": [
    "def asignar_stock_centroxcentro(reservas, inventario):\n",
    "    # Asegurarse de que las reservas estén ordenadas por la columna 'index'\n",
    "    reservas = reservas.sort_values(by='index')\n",
    "    \n",
    "    # Listas para almacenar resultados\n",
    "    reservas_actualizadas = []\n",
    "    inventario_actualizado = []\n",
    "    \n",
    "    # Agrupar por 'centro' y 'material'\n",
    "    grupos = reservas.groupby(['centro', 'material'])\n",
    "    \n",
    "    for (centro, material), reservas_grupo in grupos:\n",
    "        # Filtrar el inventario para el grupo actual\n",
    "        inventario_grupo = inventario[(inventario['centro'] == centro) & (inventario['material'] == material)]\n",
    "        \n",
    "        if not inventario_grupo.empty:\n",
    "            # Procesar el grupo\n",
    "            reservas_procesadas, inventario_procesado = _asign_stock_centros(reservas_grupo, inventario_grupo)\n",
    "            reservas_actualizadas.append(reservas_procesadas)\n",
    "            inventario_actualizado.append(inventario_procesado)\n",
    "        else:\n",
    "            # Si no hay inventario, mantener las reservas sin cambios\n",
    "            reservas_actualizadas.append(reservas_grupo)\n",
    "    \n",
    "    # Concatenar resultados\n",
    "    reservas_final = pd.concat(reservas_actualizadas, ignore_index=True)\n",
    "    inventario_final = pd.concat(inventario_actualizado, ignore_index=True)\n",
    "    \n",
    "    return reservas_final, inventario_final"
   ]
  },
  {
   "cell_type": "code",
   "execution_count": 18,
   "metadata": {},
   "outputs": [],
   "source": [
    "pedido_modif, inv_modif = asignar_stock_centroxcentro(filtrar_cabezeras_reservasCxC,tbl_inventario_resumen)"
   ]
  },
  {
   "cell_type": "code",
   "execution_count": 19,
   "metadata": {},
   "outputs": [],
   "source": [
    "obtener_stockasignado = pedido_modif[['identificador','stock_asignado']]\n",
    "obtener_stock_modificado = inv_modif[['identificador','total']]"
   ]
  },
  {
   "cell_type": "code",
   "execution_count": 20,
   "metadata": {},
   "outputs": [],
   "source": [
    "modificar_stockasignado_reservas = filtrar_cabezeras_reservasCxC.merge(obtener_stockasignado,how='left',on='identificador')\n",
    "modificar_stock_inventario = tbl_inventario_resumen.merge(obtener_stock_modificado,how='left',on='identificador')"
   ]
  },
  {
   "cell_type": "code",
   "execution_count": 21,
   "metadata": {},
   "outputs": [],
   "source": [
    "modificar_stockasignado_reservas.drop(columns='stock_asignado_x', inplace=True)\n",
    "modificar_stockasignado_reservas.rename(columns={'stock_asignado_y' : 'stock_asignado'}, inplace=True)"
   ]
  },
  {
   "cell_type": "code",
   "execution_count": 22,
   "metadata": {},
   "outputs": [],
   "source": [
    "modificar_stockasignado_reservas['diferencia'] = modificar_stockasignado_reservas['ctd_dif'] - modificar_stockasignado_reservas['stock_asignado']\n",
    "reservas_pendientes = modificar_stockasignado_reservas.loc[modificar_stockasignado_reservas['diferencia'] >0].copy()\n",
    "\n",
    "reservas_pendientes.drop(columns='diferencia', inplace=True)\n",
    "modificar_stockasignado_reservas.drop(columns='diferencia', inplace=True)\n"
   ]
  },
  {
   "cell_type": "code",
   "execution_count": 23,
   "metadata": {},
   "outputs": [],
   "source": [
    "reservas_pendientes['total'] = reservas_pendientes['stock_asignado']\n",
    "modificar_stockasignado_reservas['total'] = modificar_stockasignado_reservas['stock_asignado']"
   ]
  },
  {
   "cell_type": "code",
   "execution_count": 24,
   "metadata": {},
   "outputs": [],
   "source": [
    "modificar_stock_inventario.loc[modificar_stock_inventario['total_y'].isna(), 'total_y'] = modificar_stock_inventario['total_x']\n",
    "modificar_stock_inventario['total'] = modificar_stock_inventario['total_y']\n",
    "modificar_stock_inventario.drop(columns={'total_x','total_y'}, inplace= True)"
   ]
  },
  {
   "cell_type": "code",
   "execution_count": 25,
   "metadata": {},
   "outputs": [],
   "source": [
    "stock_restante = modificar_stock_inventario.loc[modificar_stock_inventario['total'] > 0].copy()"
   ]
  },
  {
   "cell_type": "code",
   "execution_count": 26,
   "metadata": {},
   "outputs": [],
   "source": [
    "def _asign_stock_restante(_reservas, _inventario): \n",
    "    reservas = _reservas.copy()\n",
    "    inventario = _inventario.copy()\n",
    "    for idx, row in reservas.iterrows():\n",
    "        material = row['material']\n",
    "        stock_xasignado = row['total']\n",
    "        ctd_dif = row['ctd_dif']\n",
    "        diferencia = ctd_dif - stock_xasignado\n",
    "        if diferencia > 0:\n",
    "            stock_disponible = inventario.loc[(inventario['material'] == material),'total'].values[0]\n",
    "            centro = inventario.loc[inventario['material'] == material,'centro'].values[0]\n",
    "            cantidad_ajustada = min(diferencia,stock_disponible)\n",
    "            reservas.at[idx,f'trasl_ctd_{centro}'] = cantidad_ajustada\n",
    "            reservas.at[idx,f'total'] = stock_xasignado +cantidad_ajustada\n",
    "            inventario.loc[(inventario['material'] == material) & (inventario['centro'] == centro), 'total'] -=cantidad_ajustada\n",
    "\n",
    "    return [reservas, inventario]"
   ]
  },
  {
   "cell_type": "code",
   "execution_count": 27,
   "metadata": {},
   "outputs": [],
   "source": [
    "def _asignacion_centro_restante(reservas,inventarios,centro):\n",
    "\n",
    "    reserva = reservas.copy()\n",
    "    inventario = inventarios.copy()\n",
    "    inv_fil_cen = inventario[(inventario['centro'] == centro)]\n",
    "    materiales = pd.DataFrame(inv_fil_cen['material'].unique())\n",
    "    materiales.columns = ['material']\n",
    "    concatenar_reservas = []\n",
    "    concatenar_inventario = []\n",
    "\n",
    "    for _,material in materiales.iterrows():\n",
    "        pedido_modi = reserva[(reserva['material'] == material['material'])]\n",
    "        centros_filtrados = inv_fil_cen[(inv_fil_cen['material'] == material['material'])]\n",
    "        _reservas, _inventario = _asign_stock_restante(pedido_modi,centros_filtrados)\n",
    "        concatenar_reservas.append(_reservas)\n",
    "        concatenar_inventario.append(_inventario)        \n",
    "    pedidos_consolidados = pd.concat(concatenar_reservas)\n",
    "    inventario_reducido = pd.concat(concatenar_inventario)\n",
    "    \n",
    "    return pedidos_consolidados, inventario_reducido"
   ]
  },
  {
   "cell_type": "code",
   "execution_count": 28,
   "metadata": {},
   "outputs": [],
   "source": [
    "pedido_modif2, inventario_modif2 = _asignacion_centro_restante(reservas_pendientes,stock_restante,'C154')"
   ]
  },
  {
   "cell_type": "code",
   "execution_count": 29,
   "metadata": {},
   "outputs": [],
   "source": [
    "fil_pedido_modif2 = pedido_modif2[['identificador','trasl_ctd_C154','total']]\n",
    "fil_inventario_modif2 = inventario_modif2[['identificador','total']]"
   ]
  },
  {
   "cell_type": "code",
   "execution_count": 30,
   "metadata": {},
   "outputs": [],
   "source": [
    "agregar_stockc154xreservas = modificar_stockasignado_reservas.merge(fil_pedido_modif2, how='left', on='identificador')\n",
    "modificar_stockc154xinventario = modificar_stock_inventario.merge(fil_inventario_modif2, how='left', on='identificador')"
   ]
  },
  {
   "cell_type": "code",
   "execution_count": 31,
   "metadata": {},
   "outputs": [],
   "source": [
    "agregar_stockc154xreservas.loc[agregar_stockc154xreservas['trasl_ctd_C154_y'].isna(), 'trasl_ctd_C154_y'] = 0\n",
    "agregar_stockc154xreservas.loc[agregar_stockc154xreservas['total_y'].isna(), 'total_y'] = agregar_stockc154xreservas['total_x']\n",
    "\n",
    "modificar_stockc154xinventario.loc[modificar_stockc154xinventario['total_y'].isna(), 'total_y'] = modificar_stockc154xinventario['total_x']"
   ]
  },
  {
   "cell_type": "code",
   "execution_count": 32,
   "metadata": {},
   "outputs": [],
   "source": [
    "agregar_stockc154xreservas['trasl_ctd_C154'] = agregar_stockc154xreservas['trasl_ctd_C154_y']\n",
    "agregar_stockc154xreservas['total'] = agregar_stockc154xreservas['total_y']\n",
    "\n",
    "agregar_stockc154xreservas.drop(columns=['trasl_ctd_C154_y','trasl_ctd_C154_x'], inplace=True)\n",
    "agregar_stockc154xreservas.drop(columns=['total_y','total_x'], inplace=True)\n",
    "\n",
    "\n",
    "modificar_stockc154xinventario['total'] = modificar_stockc154xinventario['total_y']\n",
    "modificar_stockc154xinventario.drop(columns=['total_x','total_y'], inplace=True)\n"
   ]
  },
  {
   "cell_type": "code",
   "execution_count": 33,
   "metadata": {},
   "outputs": [],
   "source": [
    "agregar_stockc154xreservas['diferencia'] = agregar_stockc154xreservas['ctd_dif'] - agregar_stockc154xreservas['total']\n",
    "reservas_pendientes2 = agregar_stockc154xreservas.loc[agregar_stockc154xreservas['diferencia'] > 0].copy()\n",
    "\n",
    "agregar_stockc154xreservas.drop(columns='diferencia', inplace=True)\n",
    "reservas_pendientes2.drop(columns='diferencia', inplace=True)\n"
   ]
  },
  {
   "cell_type": "code",
   "execution_count": 34,
   "metadata": {},
   "outputs": [],
   "source": [
    "stock_restante2 = modificar_stockc154xinventario.loc[modificar_stockc154xinventario['total'] > 0].copy()"
   ]
  },
  {
   "cell_type": "code",
   "execution_count": 35,
   "metadata": {},
   "outputs": [],
   "source": [
    "pedido_modif3, inventario_modif3 = _asignacion_centro_restante(reservas_pendientes2,stock_restante2,'C152')"
   ]
  },
  {
   "cell_type": "code",
   "execution_count": 36,
   "metadata": {},
   "outputs": [],
   "source": [
    "fil_pedido_modif3 = pedido_modif3[['identificador','trasl_ctd_C152','total']]\n",
    "fil_inventario_modif3 = inventario_modif3[['identificador','total']]"
   ]
  },
  {
   "cell_type": "code",
   "execution_count": 37,
   "metadata": {},
   "outputs": [],
   "source": [
    "agregar_stockc152reservas = agregar_stockc154xreservas.merge(fil_pedido_modif3,how='left', on='identificador')\n",
    "modificar_stockc152xinventario = modificar_stockc154xinventario.merge(fil_inventario_modif3, how='left', on='identificador')"
   ]
  },
  {
   "cell_type": "code",
   "execution_count": 38,
   "metadata": {},
   "outputs": [],
   "source": [
    "agregar_stockc152reservas.loc[agregar_stockc152reservas['trasl_ctd_C152_y'].isna(), 'trasl_ctd_C152_y'] = 0\n",
    "agregar_stockc152reservas.loc[agregar_stockc152reservas['total_y'].isna(), 'total_y'] = agregar_stockc152reservas['total_x']\n",
    "\n",
    "modificar_stockc152xinventario.loc[modificar_stockc152xinventario['total_y'].isna(), 'total_y'] = modificar_stockc152xinventario['total_x']"
   ]
  },
  {
   "cell_type": "code",
   "execution_count": 39,
   "metadata": {},
   "outputs": [],
   "source": [
    "agregar_stockc152reservas['trasl_ctd_C152'] = agregar_stockc152reservas['trasl_ctd_C152_y']\n",
    "agregar_stockc152reservas['total'] = agregar_stockc152reservas['total_y']\n",
    "\n",
    "agregar_stockc152reservas.drop(columns=['trasl_ctd_C152_y','trasl_ctd_C152_x'], inplace=True)\n",
    "agregar_stockc152reservas.drop(columns=['total_y','total_x'], inplace=True)\n",
    "\n",
    "\n",
    "modificar_stockc152xinventario['total'] = modificar_stockc152xinventario['total_y']\n",
    "modificar_stockc152xinventario.drop(columns=['total_x','total_y'], inplace=True)\n"
   ]
  },
  {
   "cell_type": "code",
   "execution_count": 40,
   "metadata": {},
   "outputs": [],
   "source": [
    "agregar_stockc152reservas['diferencia'] = agregar_stockc152reservas['ctd_dif'] - agregar_stockc152reservas['total']\n",
    "reservas_pendientes3 = agregar_stockc152reservas.loc[agregar_stockc152reservas['diferencia'] > 0].copy()\n",
    "\n",
    "agregar_stockc152reservas.drop(columns='diferencia', inplace=True)\n",
    "reservas_pendientes3.drop(columns='diferencia', inplace=True)\n"
   ]
  },
  {
   "cell_type": "code",
   "execution_count": 41,
   "metadata": {},
   "outputs": [],
   "source": [
    "stock_restante3 = modificar_stockc152xinventario.loc[modificar_stockc152xinventario['total'] > 0].copy()"
   ]
  },
  {
   "cell_type": "code",
   "execution_count": 42,
   "metadata": {},
   "outputs": [],
   "source": [
    "pedido_modif4, inventario_modif4 = _asignacion_centro_restante(reservas_pendientes3,stock_restante3,'C200')"
   ]
  },
  {
   "cell_type": "code",
   "execution_count": 43,
   "metadata": {},
   "outputs": [],
   "source": [
    "fil_pedido_modif4 = pedido_modif4[['identificador','trasl_ctd_C200','total']]\n",
    "fil_inventario_modif4 = inventario_modif4[['identificador','total']]"
   ]
  },
  {
   "cell_type": "code",
   "execution_count": 44,
   "metadata": {},
   "outputs": [],
   "source": [
    "agregar_stockc200reservas = agregar_stockc152reservas.merge(fil_pedido_modif4,how='left', on='identificador')\n",
    "modificar_stockc200xinventario = modificar_stockc152xinventario.merge(fil_inventario_modif4, how='left', on='identificador')"
   ]
  },
  {
   "cell_type": "code",
   "execution_count": 45,
   "metadata": {},
   "outputs": [],
   "source": [
    "agregar_stockc200reservas.loc[agregar_stockc200reservas['trasl_ctd_C200_y'].isna(), 'trasl_ctd_C200_y'] = 0\n",
    "agregar_stockc200reservas.loc[agregar_stockc200reservas['total_y'].isna(), 'total_y'] = agregar_stockc200reservas['total_x']\n",
    "\n",
    "modificar_stockc200xinventario.loc[modificar_stockc200xinventario['total_y'].isna(), 'total_y'] = modificar_stockc200xinventario['total_x']"
   ]
  },
  {
   "cell_type": "code",
   "execution_count": 46,
   "metadata": {},
   "outputs": [],
   "source": [
    "agregar_stockc200reservas['trasl_ctd_C200'] = agregar_stockc200reservas['trasl_ctd_C200_y']\n",
    "agregar_stockc200reservas['total'] = agregar_stockc200reservas['total_y']\n",
    "\n",
    "agregar_stockc200reservas.drop(columns=['trasl_ctd_C200_y','trasl_ctd_C200_x'], inplace=True)\n",
    "agregar_stockc200reservas.drop(columns=['total_y','total_x'], inplace=True)\n",
    "\n",
    "\n",
    "modificar_stockc200xinventario['total'] = modificar_stockc200xinventario['total_y']\n",
    "modificar_stockc200xinventario.drop(columns=['total_x','total_y'], inplace=True)\n"
   ]
  },
  {
   "cell_type": "code",
   "execution_count": 47,
   "metadata": {},
   "outputs": [],
   "source": [
    "agregar_stockc200reservas['diferencia'] = agregar_stockc200reservas['ctd_dif'] - agregar_stockc200reservas['total']\n",
    "reservas_pendientes4 = agregar_stockc200reservas.loc[agregar_stockc200reservas['diferencia'] > 0].copy()\n",
    "\n",
    "agregar_stockc200reservas.drop(columns='diferencia', inplace=True)\n",
    "reservas_pendientes4.drop(columns='diferencia', inplace=True)"
   ]
  },
  {
   "cell_type": "code",
   "execution_count": 48,
   "metadata": {},
   "outputs": [],
   "source": [
    "stock_restante4 = modificar_stockc200xinventario.loc[modificar_stockc200xinventario['total'] > 0].copy()"
   ]
  },
  {
   "cell_type": "code",
   "execution_count": 49,
   "metadata": {},
   "outputs": [],
   "source": [
    "pedido_modif5, inventario_modif5 = _asignacion_centro_restante(reservas_pendientes4,stock_restante4,'C040')"
   ]
  },
  {
   "cell_type": "code",
   "execution_count": 50,
   "metadata": {},
   "outputs": [],
   "source": [
    "fil_pedido_modif5 = pedido_modif5[['identificador','trasl_ctd_C040','total']]\n",
    "fil_inventario_modif5 = inventario_modif5[['identificador','total']]"
   ]
  },
  {
   "cell_type": "code",
   "execution_count": 51,
   "metadata": {},
   "outputs": [],
   "source": [
    "agregar_stockc040reservas = agregar_stockc200reservas.merge(fil_pedido_modif5,how='left', on='identificador')\n",
    "modificar_stockc040xinventario = modificar_stockc200xinventario.merge(fil_inventario_modif5, how='left', on='identificador')"
   ]
  },
  {
   "cell_type": "code",
   "execution_count": 52,
   "metadata": {},
   "outputs": [],
   "source": [
    "agregar_stockc040reservas.loc[agregar_stockc040reservas['trasl_ctd_C040_y'].isna(), 'trasl_ctd_C040_y'] = 0\n",
    "agregar_stockc040reservas.loc[agregar_stockc040reservas['total_y'].isna(), 'total_y'] = agregar_stockc040reservas['total_x']\n",
    "\n",
    "modificar_stockc040xinventario.loc[modificar_stockc040xinventario['total_y'].isna(), 'total_y'] = modificar_stockc040xinventario['total_x']"
   ]
  },
  {
   "cell_type": "code",
   "execution_count": 53,
   "metadata": {},
   "outputs": [],
   "source": [
    "agregar_stockc040reservas['trasl_ctd_C040'] = agregar_stockc040reservas['trasl_ctd_C040_y']\n",
    "agregar_stockc040reservas['total'] = agregar_stockc040reservas['total_y']\n",
    "\n",
    "agregar_stockc040reservas.drop(columns=['trasl_ctd_C040_y','trasl_ctd_C040_x'], inplace=True)\n",
    "agregar_stockc040reservas.drop(columns=['total_y','total_x'], inplace=True)\n",
    "\n",
    "\n",
    "modificar_stockc040xinventario['total'] = modificar_stockc040xinventario['total_y']\n",
    "modificar_stockc040xinventario.drop(columns=['total_x','total_y'], inplace=True)\n"
   ]
  },
  {
   "cell_type": "code",
   "execution_count": 54,
   "metadata": {},
   "outputs": [],
   "source": [
    "agregar_stockc040reservas['diferencia'] = agregar_stockc040reservas['ctd_dif'] - agregar_stockc040reservas['total']\n",
    "reservas_pendientes5 = agregar_stockc040reservas.loc[agregar_stockc040reservas['diferencia'] > 0].copy()\n",
    "\n",
    "agregar_stockc040reservas.drop(columns='diferencia', inplace=True)\n",
    "reservas_pendientes5.drop(columns='diferencia', inplace=True)"
   ]
  },
  {
   "cell_type": "code",
   "execution_count": 55,
   "metadata": {},
   "outputs": [],
   "source": [
    "stock_restante5 = modificar_stockc040xinventario.loc[modificar_stockc040xinventario['total'] > 0].copy()"
   ]
  },
  {
   "cell_type": "code",
   "execution_count": 56,
   "metadata": {},
   "outputs": [],
   "source": [
    "pedido_modif6, inventario_modif6 = _asignacion_centro_restante(reservas_pendientes5,stock_restante5,'C080')"
   ]
  },
  {
   "cell_type": "code",
   "execution_count": 57,
   "metadata": {},
   "outputs": [],
   "source": [
    "fil_pedido_modif6 = pedido_modif6[['identificador','trasl_ctd_C080','total']]\n",
    "fil_inventario_modif6 = pedido_modif6[['identificador','total']]"
   ]
  },
  {
   "cell_type": "code",
   "execution_count": 58,
   "metadata": {},
   "outputs": [],
   "source": [
    "agregar_stockc080reservas = agregar_stockc040reservas.merge(fil_pedido_modif6,how='left', on='identificador')\n",
    "modificar_stockc080xinventario = modificar_stockc040xinventario.merge(fil_inventario_modif6, how='left', on='identificador')"
   ]
  },
  {
   "cell_type": "code",
   "execution_count": 59,
   "metadata": {},
   "outputs": [],
   "source": [
    "agregar_stockc080reservas.loc[agregar_stockc080reservas['trasl_ctd_C080_y'].isna(), 'trasl_ctd_C080_y'] = 0\n",
    "agregar_stockc080reservas.loc[agregar_stockc080reservas['total_y'].isna(), 'total_y'] = agregar_stockc080reservas['total_x']\n",
    "\n",
    "modificar_stockc080xinventario.loc[modificar_stockc080xinventario['total_y'].isna(), 'total_y'] = modificar_stockc080xinventario['total_x']"
   ]
  },
  {
   "cell_type": "code",
   "execution_count": 60,
   "metadata": {},
   "outputs": [],
   "source": [
    "agregar_stockc080reservas['trasl_ctd_C080'] = agregar_stockc080reservas['trasl_ctd_C080_y']\n",
    "agregar_stockc080reservas['total'] = agregar_stockc080reservas['total_y']\n",
    "\n",
    "agregar_stockc080reservas.drop(columns=['trasl_ctd_C080_y','trasl_ctd_C080_x'], inplace=True)\n",
    "agregar_stockc080reservas.drop(columns=['total_y','total_x'], inplace=True)\n",
    "\n",
    "\n",
    "modificar_stockc080xinventario['total'] = modificar_stockc080xinventario['total_y']\n",
    "modificar_stockc080xinventario.drop(columns=['total_x','total_y'], inplace=True)\n"
   ]
  },
  {
   "cell_type": "code",
   "execution_count": 61,
   "metadata": {},
   "outputs": [],
   "source": [
    "agregar_stockc080reservas['diferencia'] = agregar_stockc080reservas['ctd_dif'] - agregar_stockc080reservas['total']\n",
    "reservas_pendientes6 = agregar_stockc080reservas.loc[agregar_stockc080reservas['diferencia'] > 0].copy()\n",
    "\n",
    "agregar_stockc080reservas.drop(columns='diferencia', inplace=True)\n",
    "reservas_pendientes6.drop(columns='diferencia', inplace=True)"
   ]
  },
  {
   "cell_type": "code",
   "execution_count": 62,
   "metadata": {},
   "outputs": [],
   "source": [
    "stock_restante6 = modificar_stockc080xinventario.loc[modificar_stockc080xinventario['total'] > 0].copy()"
   ]
  },
  {
   "cell_type": "code",
   "execution_count": 63,
   "metadata": {},
   "outputs": [],
   "source": [
    "def _asign_pedidos_compra(reservas, pedidospendiente):\n",
    "    # Ordenar los pedidos pendientes\n",
    "    ped = pedidospendiente.sort_values(by=['fecha_entrega', 'identificador'], ascending=[True, True], na_position='last')\n",
    "\n",
    "    # Proceso de asignación\n",
    "    for i, reser in reservas.iterrows():\n",
    "        cantidad_pedida = reser['ctd_dif'] - reser['total']\n",
    "        compras_consolidadas = []\n",
    "        fechas_consolidadas = []\n",
    "        cantidades_consolidadas = []\n",
    "        proveedor_consolidadas = []\n",
    "\n",
    "        for j, pedi in ped.iterrows():\n",
    "            if pedi['por_entr_ctd'] > 0:\n",
    "                if pedi['por_entr_ctd'] >= cantidad_pedida:\n",
    "                    compras_consolidadas.append(pedi['doc_compra'])\n",
    "                    fechas_consolidadas.append(pedi['fecha_entrega'])\n",
    "                    proveedor_consolidadas.append(pedi['nombre_proveedor'])\n",
    "                    cantidades_consolidadas.append(cantidad_pedida)\n",
    "                    ped.at[j, 'por_entr_ctd'] -= cantidad_pedida\n",
    "                    cantidad_pedida = 0\n",
    "                    break\n",
    "                else:\n",
    "                    compras_consolidadas.append(pedi['doc_compra'])\n",
    "                    fechas_consolidadas.append(pedi['fecha_entrega'])\n",
    "                    proveedor_consolidadas.append(pedi['nombre_proveedor'])\n",
    "                    cantidades_consolidadas.append(pedi['por_entr_ctd'])\n",
    "                    cantidad_pedida -= pedi['por_entr_ctd']\n",
    "                    ped.at[j, 'por_entr_ctd'] = 0\n",
    "\n",
    "        reservas.at[i, 'Ped_nro'] = ', '.join(map(str, compras_consolidadas))\n",
    "        reservas.at[i, 'Ped_ctd'] = sum(cantidades_consolidadas)\n",
    "        reservas.at[i, 'Ped_proveedor'] = ', '.join(map(str, proveedor_consolidadas))\n",
    "        reservas.at[i, 'total'] = reser['total'] + sum(cantidades_consolidadas)\n",
    "        if fechas_consolidadas:\n",
    "            reservas.at[i, 'Ped_Fecha'] = fechas_consolidadas[-1]\n",
    "\n",
    "    return reservas, ped"
   ]
  },
  {
   "cell_type": "code",
   "execution_count": 64,
   "metadata": {},
   "outputs": [],
   "source": [
    "def asignacion_pedidoscompra(reservas, pedidoscompras):\n",
    "    reserva = reservas.copy()\n",
    "    pedidoscompra = pedidoscompras.copy()\n",
    "\n",
    "    centros = pedidoscompra['centro'].unique()\n",
    "    materiales = pedidoscompra['material'].unique()\n",
    "\n",
    "    concatenar_reservas = []\n",
    "\n",
    "    for centro in centros:\n",
    "        for material in materiales:\n",
    "            pedido_m = reserva[(reserva['centro'] == centro) & (reserva['material'] == material)]\n",
    "            pedidos_filtrados = pedidoscompra[(pedidoscompra['centro'] == centro) & (pedidoscompra['material'] == material)]\n",
    "            if not pedidos_filtrados.empty:\n",
    "                _reservas, _pedidos = _asign_pedidos_compra(pedido_m, pedidos_filtrados)\n",
    "                concatenar_reservas.append(_reservas)\n",
    "                pedidoscompra.update(_pedidos)\n",
    "\n",
    "    pedidos_consolidados = pd.concat(concatenar_reservas)\n",
    "\n",
    "    return pedidos_consolidados, pedidoscompra"
   ]
  },
  {
   "cell_type": "code",
   "execution_count": 65,
   "metadata": {},
   "outputs": [],
   "source": [
    "pedido_modif7,pedidoscompra_modif = asignacion_pedidoscompra(reservas_pendientes6, filtrar_cabezeras_estadoxpedidos)"
   ]
  },
  {
   "cell_type": "code",
   "execution_count": 66,
   "metadata": {},
   "outputs": [],
   "source": [
    "fil_pedido_modif7 = pedido_modif7[['identificador','Ped_nro','Ped_Fecha','Ped_ctd','Ped_proveedor','total']]\n",
    "fil_pedidoscompra =pedidoscompra_modif.loc[pedidoscompra_modif['por_entr_ctd'] >0]"
   ]
  },
  {
   "cell_type": "code",
   "execution_count": 67,
   "metadata": {},
   "outputs": [],
   "source": [
    "agregar_pedidosxreservas = agregar_stockc080reservas.merge(fil_pedido_modif7,how='left', on='identificador')"
   ]
  },
  {
   "cell_type": "code",
   "execution_count": 68,
   "metadata": {},
   "outputs": [],
   "source": [
    "agregar_pedidosxreservas.loc[agregar_pedidosxreservas['Ped_nro_y'].isna(), 'Ped_nro_y'] = agregar_pedidosxreservas['Ped_nro_x']\n",
    "agregar_pedidosxreservas.loc[agregar_pedidosxreservas['Ped_Fecha_y'].isna(), 'Ped_Fecha_y'] = agregar_pedidosxreservas['Ped_Fecha_x']\n",
    "agregar_pedidosxreservas.loc[agregar_pedidosxreservas['Ped_ctd_y'].isna(), 'Ped_ctd_y'] = agregar_pedidosxreservas['Ped_ctd_x']\n",
    "agregar_pedidosxreservas.loc[agregar_pedidosxreservas['Ped_proveedor_y'].isna(), 'Ped_proveedor_y'] = agregar_pedidosxreservas['Ped_proveedor_x']\n",
    "agregar_pedidosxreservas.loc[agregar_pedidosxreservas['total_y'].isna(), 'total_y'] = agregar_pedidosxreservas['total_x']"
   ]
  },
  {
   "cell_type": "code",
   "execution_count": 69,
   "metadata": {},
   "outputs": [],
   "source": [
    "agregar_pedidosxreservas['Ped_nro'] = agregar_pedidosxreservas['Ped_nro_y']\n",
    "agregar_pedidosxreservas['Ped_Fecha'] = agregar_pedidosxreservas['Ped_Fecha_y']\n",
    "agregar_pedidosxreservas['Ped_ctd'] = agregar_pedidosxreservas['Ped_ctd_y']\n",
    "agregar_pedidosxreservas['Ped_proveedor'] = agregar_pedidosxreservas['Ped_proveedor_y']\n",
    "agregar_pedidosxreservas['total'] = agregar_pedidosxreservas['total_y']\n",
    "\n",
    "agregar_pedidosxreservas.drop(columns=['Ped_nro_y','Ped_nro_x'], inplace=True)\n",
    "agregar_pedidosxreservas.drop(columns=['Ped_Fecha_y','Ped_Fecha_x'], inplace=True)\n",
    "agregar_pedidosxreservas.drop(columns=['Ped_ctd_y','Ped_ctd_x'], inplace=True)\n",
    "agregar_pedidosxreservas.drop(columns=['Ped_proveedor_y','Ped_proveedor_x'], inplace=True)\n",
    "agregar_pedidosxreservas.drop(columns=['total_y','total_x'], inplace=True)\n"
   ]
  },
  {
   "cell_type": "code",
   "execution_count": 70,
   "metadata": {},
   "outputs": [],
   "source": [
    "agregar_pedidosxreservas['total_trasl'] = agregar_pedidosxreservas['trasl_ctd_C154'] + agregar_pedidosxreservas['trasl_ctd_C152'] +agregar_pedidosxreservas['trasl_ctd_C200'] + agregar_pedidosxreservas['trasl_ctd_C040'] + agregar_pedidosxreservas['trasl_ctd_C080']"
   ]
  },
  {
   "cell_type": "code",
   "execution_count": 71,
   "metadata": {},
   "outputs": [],
   "source": [
    "fil_reservasxtrasl = agregar_pedidosxreservas.loc[(agregar_pedidosxreservas['total_trasl'] > 0)]"
   ]
  },
  {
   "cell_type": "code",
   "execution_count": 72,
   "metadata": {},
   "outputs": [],
   "source": [
    "def _asign_pedidoscompraxtrasl(reservas, pedidospendiente):\n",
    "    # Ordenar los pedidos pendientes\n",
    "    ped = pedidospendiente.sort_values(by=['fecha_entrega', 'identificador'], ascending=[True, True], na_position='last')\n",
    "\n",
    "    # Proceso de asignación\n",
    "    for i, reser in reservas.iterrows():\n",
    "        cantidad_pedida =  reser['total_trasl']\n",
    "        compras_consolidadas = []\n",
    "        fechas_consolidadas = []\n",
    "        cantidades_consolidadas = []\n",
    "        proveedor_consolidadas = []\n",
    "\n",
    "        for j, pedi in ped.iterrows():\n",
    "            if pedi['por_entr_ctd'] > 0:\n",
    "                if pedi['por_entr_ctd'] >= cantidad_pedida:\n",
    "                    compras_consolidadas.append(pedi['doc_compra'])\n",
    "                    fechas_consolidadas.append(pedi['fecha_entrega'])\n",
    "                    proveedor_consolidadas.append(pedi['nombre_proveedor'])\n",
    "                    cantidades_consolidadas.append(cantidad_pedida)\n",
    "                    ped.at[j, 'por_entr_ctd'] -= cantidad_pedida\n",
    "                    cantidad_pedida = 0\n",
    "                    break\n",
    "                else:\n",
    "                    compras_consolidadas.append(pedi['doc_compra'])\n",
    "                    fechas_consolidadas.append(pedi['fecha_entrega'])\n",
    "                    proveedor_consolidadas.append(pedi['nombre_proveedor'])\n",
    "                    cantidades_consolidadas.append(pedi['por_entr_ctd'])\n",
    "                    cantidad_pedida -= pedi['por_entr_ctd']\n",
    "                    ped.at[j, 'por_entr_ctd'] = 0\n",
    "\n",
    "        if pd.notna(reservas.at[i, 'Ped_nro']):\n",
    "            reservas.at[i, 'Ped_nro'] = f\"{reservas.at[i, 'Ped_nro']}, \" + ', '.join(map(str, compras_consolidadas))\n",
    "        else:\n",
    "            reservas.at[i, 'Ped_nro'] = ', '.join(map(str, compras_consolidadas))\n",
    "\n",
    "        reservas.at[i, 'Ped_ctd'] += sum(cantidades_consolidadas) if pd.notna(reservas.at[i, 'Ped_ctd']) else sum(cantidades_consolidadas)\n",
    "        \n",
    "        if pd.notna(reservas.at[i, 'Ped_proveedor']):\n",
    "            reservas.at[i, 'Ped_proveedor'] = f\"{reservas.at[i, 'Ped_proveedor']}, \" + ', '.join(map(str, proveedor_consolidadas))\n",
    "        else:\n",
    "            reservas.at[i, 'Ped_proveedor'] = ', '.join(map(str, proveedor_consolidadas))\n",
    "        \n",
    "        if fechas_consolidadas:\n",
    "            reservas.at[i, 'Ped_Fecha'] = fechas_consolidadas[-1]\n",
    "\n",
    "    return reservas, ped"
   ]
  },
  {
   "cell_type": "code",
   "execution_count": 73,
   "metadata": {},
   "outputs": [],
   "source": [
    "def asignacion_pedidoscompraxtrasl(reservas, pedidoscompras):\n",
    "    reserva = reservas.copy()\n",
    "    pedidoscompra = pedidoscompras.copy()\n",
    "\n",
    "    centros = pedidoscompra['centro'].unique()\n",
    "    materiales = pedidoscompra['material'].unique()\n",
    "\n",
    "    concatenar_reservas = []\n",
    "\n",
    "    for centro in centros:\n",
    "        for material in materiales:\n",
    "            pedido_m = reserva[(reserva['centro'] == centro) & (reserva['material'] == material)]\n",
    "            pedidos_filtrados = pedidoscompra[(pedidoscompra['centro'] == centro) & (pedidoscompra['material'] == material)]\n",
    "            if not pedidos_filtrados.empty:\n",
    "                _reservas, _pedidos = _asign_pedidoscompraxtrasl(pedido_m, pedidos_filtrados)\n",
    "                concatenar_reservas.append(_reservas)\n",
    "                pedidoscompra.update(_pedidos)\n",
    "\n",
    "    pedidos_consolidados = pd.concat(concatenar_reservas)\n",
    "\n",
    "    return pedidos_consolidados, pedidoscompra"
   ]
  },
  {
   "cell_type": "code",
   "execution_count": 74,
   "metadata": {},
   "outputs": [],
   "source": [
    "pedido_modif8,pedidoscompra_modif2 = asignacion_pedidoscompraxtrasl(fil_reservasxtrasl, fil_pedidoscompra)"
   ]
  },
  {
   "cell_type": "code",
   "execution_count": 75,
   "metadata": {},
   "outputs": [],
   "source": [
    "fil_pedido_modif8 = pedido_modif8[['identificador','Ped_nro','Ped_Fecha','Ped_ctd','Ped_proveedor']]"
   ]
  },
  {
   "cell_type": "code",
   "execution_count": 76,
   "metadata": {},
   "outputs": [],
   "source": [
    "agregar_pedidosxreservastrasl = agregar_pedidosxreservas.merge(fil_pedido_modif8,how='left', on='identificador')"
   ]
  },
  {
   "cell_type": "code",
   "execution_count": 77,
   "metadata": {},
   "outputs": [],
   "source": [
    "agregar_pedidosxreservastrasl.loc[agregar_pedidosxreservastrasl['Ped_nro_y'].isna(), 'Ped_nro_y'] = agregar_pedidosxreservastrasl['Ped_nro_x']\n",
    "agregar_pedidosxreservastrasl.loc[agregar_pedidosxreservastrasl['Ped_Fecha_y'].isna(), 'Ped_Fecha_y'] = agregar_pedidosxreservastrasl['Ped_Fecha_x']\n",
    "agregar_pedidosxreservastrasl.loc[agregar_pedidosxreservastrasl['Ped_ctd_y'].isna(), 'Ped_ctd_y'] = agregar_pedidosxreservastrasl['Ped_ctd_x']\n",
    "agregar_pedidosxreservastrasl.loc[agregar_pedidosxreservastrasl['Ped_proveedor_y'].isna(), 'Ped_proveedor_y'] = agregar_pedidosxreservastrasl['Ped_proveedor_x']"
   ]
  },
  {
   "cell_type": "code",
   "execution_count": 78,
   "metadata": {},
   "outputs": [],
   "source": [
    "agregar_pedidosxreservastrasl['Ped_nro'] = agregar_pedidosxreservastrasl['Ped_nro_y']\n",
    "agregar_pedidosxreservastrasl['Ped_Fecha'] = agregar_pedidosxreservastrasl['Ped_Fecha_y']\n",
    "agregar_pedidosxreservastrasl['Ped_ctd'] = agregar_pedidosxreservastrasl['Ped_ctd_y']\n",
    "agregar_pedidosxreservastrasl['Ped_proveedor'] = agregar_pedidosxreservastrasl['Ped_proveedor_y']\n",
    "\n",
    "agregar_pedidosxreservastrasl.drop(columns=['Ped_nro_y','Ped_nro_x'], inplace=True)\n",
    "agregar_pedidosxreservastrasl.drop(columns=['Ped_Fecha_y','Ped_Fecha_x'], inplace=True)\n",
    "agregar_pedidosxreservastrasl.drop(columns=['Ped_ctd_y','Ped_ctd_x'], inplace=True)\n",
    "agregar_pedidosxreservastrasl.drop(columns=['Ped_proveedor_y','Ped_proveedor_x'], inplace=True)\n"
   ]
  },
  {
   "cell_type": "code",
   "execution_count": 79,
   "metadata": {},
   "outputs": [],
   "source": [
    "fil_reserv = agregar_pedidosxreservastrasl[['identificador','stock_asignado','trasl_ctd_C154','trasl_ctd_C152','trasl_ctd_C200','trasl_ctd_C040','trasl_ctd_C080','Ped_nro','Ped_Fecha','Ped_ctd','Ped_proveedor','total','total_trasl']]"
   ]
  },
  {
   "cell_type": "code",
   "execution_count": 80,
   "metadata": {},
   "outputs": [],
   "source": [
    "abastecimiento_reservas = reservas.merge(fil_reserv, how='left', on='identificador')"
   ]
  },
  {
   "cell_type": "code",
   "execution_count": 81,
   "metadata": {},
   "outputs": [],
   "source": [
    "abastecimiento_reservas.loc[abastecimiento_reservas['stock_asignado_y'].isna(), 'stock_asignado_y'] = abastecimiento_reservas['stock_asignado_x']\n",
    "abastecimiento_reservas.loc[abastecimiento_reservas['trasl_ctd_C154_y'].isna(), 'trasl_ctd_C154_y'] = abastecimiento_reservas['trasl_ctd_C154_x']\n",
    "abastecimiento_reservas.loc[abastecimiento_reservas['trasl_ctd_C152_y'].isna(), 'trasl_ctd_C152_y'] = abastecimiento_reservas['trasl_ctd_C152_x']\n",
    "abastecimiento_reservas.loc[abastecimiento_reservas['trasl_ctd_C200_y'].isna(), 'trasl_ctd_C200_y'] = abastecimiento_reservas['trasl_ctd_C200_x']\n",
    "abastecimiento_reservas.loc[abastecimiento_reservas['trasl_ctd_C040_y'].isna(), 'trasl_ctd_C040_y'] = abastecimiento_reservas['trasl_ctd_C040_x']\n",
    "abastecimiento_reservas.loc[abastecimiento_reservas['trasl_ctd_C080_y'].isna(), 'trasl_ctd_C080_y'] = abastecimiento_reservas['trasl_ctd_C080_x']\n",
    "abastecimiento_reservas.loc[abastecimiento_reservas['Ped_nro_y'].isna(), 'Ped_nro_y'] = abastecimiento_reservas['Ped_nro_x']\n",
    "abastecimiento_reservas.loc[abastecimiento_reservas['Ped_Fecha_y'].isna(), 'Ped_Fecha_y'] = abastecimiento_reservas['Ped_Fecha_x']\n",
    "abastecimiento_reservas.loc[abastecimiento_reservas['Ped_ctd_y'].isna(), 'Ped_ctd_y'] = abastecimiento_reservas['Ped_ctd_x']\n",
    "abastecimiento_reservas.loc[abastecimiento_reservas['Ped_proveedor_y'].isna(), 'Ped_proveedor_y'] = abastecimiento_reservas['Ped_proveedor_x']\n",
    "abastecimiento_reservas.loc[abastecimiento_reservas['total'].isna(), 'total'] = 0\n",
    "abastecimiento_reservas.loc[abastecimiento_reservas['total_trasl'].isna(), 'total_trasl'] = 0\n"
   ]
  },
  {
   "cell_type": "code",
   "execution_count": 82,
   "metadata": {},
   "outputs": [],
   "source": [
    "abastecimiento_reservas['stock_asignado'] = abastecimiento_reservas['stock_asignado_y']\n",
    "abastecimiento_reservas['trasl_ctd_C154'] = abastecimiento_reservas['trasl_ctd_C154_y']\n",
    "abastecimiento_reservas['trasl_ctd_C152'] = abastecimiento_reservas['trasl_ctd_C152_y']\n",
    "abastecimiento_reservas['trasl_ctd_C200'] = abastecimiento_reservas['trasl_ctd_C200_y']\n",
    "abastecimiento_reservas['trasl_ctd_C040'] = abastecimiento_reservas['trasl_ctd_C040_y']\n",
    "abastecimiento_reservas['trasl_ctd_C080'] = abastecimiento_reservas['trasl_ctd_C080_y']\n",
    "\n",
    "abastecimiento_reservas['Ped_nro'] = abastecimiento_reservas['Ped_nro_y']\n",
    "abastecimiento_reservas['Ped_Fecha'] = abastecimiento_reservas['Ped_Fecha_y']\n",
    "abastecimiento_reservas['Ped_ctd'] = abastecimiento_reservas['Ped_ctd_y']\n",
    "abastecimiento_reservas['Ped_proveedor'] = abastecimiento_reservas['Ped_proveedor_y']\n",
    "\n",
    "abastecimiento_reservas.drop(columns=['stock_asignado_y','stock_asignado_x'], inplace=True)\n",
    "abastecimiento_reservas.drop(columns=['trasl_ctd_C154_y','trasl_ctd_C154_x'], inplace=True)\n",
    "abastecimiento_reservas.drop(columns=['trasl_ctd_C152_y','trasl_ctd_C152_x'], inplace=True)\n",
    "abastecimiento_reservas.drop(columns=['trasl_ctd_C200_y','trasl_ctd_C200_x'], inplace=True)\n",
    "abastecimiento_reservas.drop(columns=['trasl_ctd_C040_y','trasl_ctd_C040_x'], inplace=True)\n",
    "abastecimiento_reservas.drop(columns=['trasl_ctd_C080_y','trasl_ctd_C080_x'], inplace=True)\n",
    "\n",
    "abastecimiento_reservas.drop(columns=['Ped_nro_y','Ped_nro_x'], inplace=True)\n",
    "abastecimiento_reservas.drop(columns=['Ped_Fecha_y','Ped_Fecha_x'], inplace=True)\n",
    "abastecimiento_reservas.drop(columns=['Ped_ctd_y','Ped_ctd_x'], inplace=True)\n",
    "abastecimiento_reservas.drop(columns=['Ped_proveedor_y','Ped_proveedor_x'], inplace=True)"
   ]
  },
  {
   "cell_type": "code",
   "execution_count": 83,
   "metadata": {},
   "outputs": [],
   "source": [
    "abastecimiento_reservas['Q_pendiente'] = abastecimiento_reservas['ctd_dif'] - abastecimiento_reservas['total'] "
   ]
  },
  {
   "cell_type": "code",
   "execution_count": 84,
   "metadata": {},
   "outputs": [],
   "source": [
    "abastecimiento_reservas.loc[abastecimiento_reservas['total_trasl']>0,'trasl_fecha'] = (datetime.now() + timedelta(days=2)).strftime('%Y-%m-%d')"
   ]
  },
  {
   "cell_type": "code",
   "execution_count": 85,
   "metadata": {},
   "outputs": [],
   "source": [
    "abastecimiento_reservas['Est_material'] = ''\n",
    "abastecimiento_reservas['Est_abastecimiento'] = ''\n",
    "abastecimiento_reservas.loc[abastecimiento_reservas['Q_pendiente'] == 0,'Est_material'] = 'Completo'\n",
    "abastecimiento_reservas.loc[abastecimiento_reservas['Q_pendiente'] > 0,'Est_material'] = 'Faltante'\n",
    "abastecimiento_reservas.loc[(abastecimiento_reservas['Q_pendiente'] > 0) & ((abastecimiento_reservas['ctd_dif'] - abastecimiento_reservas['Q_pendiente']) != 0),'Est_material'] = 'Parcial'\n",
    "\n",
    "abastecimiento_reservas.loc[abastecimiento_reservas['Q_pendiente'] == 0,'Est_abastecimiento'] = 'Abastecido'\n",
    "abastecimiento_reservas.loc[abastecimiento_reservas['Q_pendiente'] != 0,'Est_abastecimiento'] = 'No_Abastecido'"
   ]
  },
  {
   "cell_type": "code",
   "execution_count": 86,
   "metadata": {},
   "outputs": [],
   "source": [
    "abastecimiento_reservas['Est_Compra'] = ''\n",
    "abastecimiento_reservas.loc[((abastecimiento_reservas['ctd_dif'] - abastecimiento_reservas['stock_asignado']) ==0),'Est_Compra'] = 'Total_abs_inv'\n",
    "abastecimiento_reservas.loc[( abastecimiento_reservas['total_trasl'] >0),'Est_Compra'] = 'Segmien_Traslado'\n",
    "abastecimiento_reservas.loc[( abastecimiento_reservas['Ped_ctd'] >0),'Est_Compra'] = 'Segmien_Oc'\n",
    "abastecimiento_reservas.loc[abastecimiento_reservas['Q_pendiente'] >0,'Est_Compra'] = 'Por_Pedir'"
   ]
  },
  {
   "cell_type": "code",
   "execution_count": 87,
   "metadata": {},
   "outputs": [],
   "source": [
    "abastecimiento_reservas['tipo_Ot'] = abastecimiento_reservas['orden_texto'].str[:3]\n",
    "abastecimiento_reservas['semana_Ot_txt'] = abastecimiento_reservas['orden_revision_texto'].str[-2:]\n",
    "\n",
    "abastecimiento_reservas['fe_nece'] = pd.to_datetime(abastecimiento_reservas['fe_nece'])\n",
    "abastecimiento_reservas['felib'] = pd.to_datetime(abastecimiento_reservas['felib'])\n",
    "\n",
    "abastecimiento_reservas['semana_Ot'] = abastecimiento_reservas['fe_nece'].dt.isocalendar().week\n",
    "abastecimiento_reservas['semana_lib'] = abastecimiento_reservas['felib'].dt.isocalendar().week\n"
   ]
  },
  {
   "cell_type": "code",
   "execution_count": 88,
   "metadata": {},
   "outputs": [],
   "source": [
    "abast_reservas = abastecimiento_reservas.merge(tbl_flota, how='left', on='equipo')"
   ]
  },
  {
   "cell_type": "code",
   "execution_count": 89,
   "metadata": {},
   "outputs": [],
   "source": [
    "abast_reservas['fechahora'] = datetime.now().strftime('%Y-%m-%d %H:%M:%S')\n"
   ]
  },
  {
   "cell_type": "code",
   "execution_count": 90,
   "metadata": {},
   "outputs": [],
   "source": [
    "cargar_abastecimiento = abast_reservas.reindex(['index','fechahora','identificador','orden','felib','aviso','empldeno','zona','equipo','linegnombre','modelo','eqdescrip','repercusion','cliente','proyecto','ave_ini_fecha','ave_fin_fecha','parada',\n",
    "                                        'parada_dias','ubitec_deno','local','undneg','centro_deno','eq_est_usu_deno','flota_tipo','fe_despacho','eq_serie_motor','eq_serie_equipo','eq_est_ot_deno','clase','grupo_planif',\n",
    "                                        'cliente_nro','proyecto_nro','supres_nombre','criticidad_deno','eqvaloradq_usd','repercusiondeno','oden_clase_deno','coti_esta_deno','avisodespacho','estatususuarioorden',\n",
    "                                        'aviso_fecreado','orden_fe_fin_ext','orden_fe_ini_ext','fabricaequipo','orden_fecietec','orden_claact_deno','gruplan_deno','centro_y','eq_clase','orden_tipimput','orden_fecrea','orden_texto',\n",
    "                                        'orden_prio','prio_orden','prio_orden_texto','ot_abierto','ot_liberado','ot_cierrete','ot_cerrado','hruta_contador','hruta_grupo','aviso_prioridad_deno','aviso_clase_deno','orden_revision','orden_revision_texto','orden_causas_cod',\n",
    "                                        'orden_causas','orden_causas_texto','cotizacion','pedido_venta','orden_pos_mtto','plan_mantenimiento','fechacarga_y','reserva','reservapos','material','materialdeno','ctd_nec','ctd_reduc',\n",
    "                                        'ctd_dif','um_base','usuario','centro_x','almacen','lote','fe_nece','orden_op','dest_merc','imputacion','ce_coste','salida_fin','relevplnec','grafo','elem_pep','febase','reservaestatus','reservaimputacion',\n",
    "                                        'indicador_dh','reserva_pos_borrado','reserva_mov_permit','ate_accion','ate_codigosap','ate_cantidad','ate_UMB','ate_orden','ate_fecha','valor_flota','reservasolped','detalle01','detalle02',\n",
    "                                        'stock_asignado','trasl_ctd_C154','trasl_ctd_C040','trasl_ctd_C080','trasl_ctd_C200','trasl_ctd_C152','trasl_fecha','Ped_nro','Ped_Fecha','Ped_ctd','Ped_proveedor','estadoreserva','Cod_mate_antiguo','Grp_mat','Jerarquia_produc','total_trasl',\n",
    "                                        'Q_pendiente','total','Est_material','Est_abastecimiento','Est_Compra','tipo_Ot','semana_Ot_txt','semana_Ot','semana_lib'],axis=1)"
   ]
  },
  {
   "cell_type": "code",
   "execution_count": 91,
   "metadata": {},
   "outputs": [],
   "source": [
    "cabezera_abastecimiento = ['id','fechacarga','identificador','orden','felib','aviso','empldeno','zona','equipo','linea_negocio','modelo','eqdescrip','repercusion','cliente','proyecto','ave_ini_fecha','ave_fin_fecha','parada','parada_dias','ubitec_deno',\n",
    "                            'local','undneg','centro_deno','eq_est_usu_deno','flota_tipo','fe_despacho','eq_serie_motor','eq_serie_equipo','eq_est_ot_deno','clase','grupo_planif','cliente_nro','proyecto_nro','supres_nombre',\n",
    "                            'criticidad_deno','eqvaloradq_usd','repercusiondeno','oden_clase_deno','coti_esta_deno','avisodespacho','estatususuarioorden','aviso_fecreado','orden_fe_fin_ext','orden_fe_ini_ext','fabricaequipo',\n",
    "                            'orden_fecietec','orden_claact_deno','gruplan_deno','centro','eq_clase','orden_tipimput','orden_fecrea','orden_texto','orden_prio','prio_orden','prio_orden_texto','ot_abierto','ot_liberado','ot_cierrete','ot_cerrado','hruta_contador',\n",
    "                            'hruta_grupo','aviso_prioridad_deno','aviso_clase_deno','orden_revision','orden_revision_texto','orden_causas_cod','orden_causas','orden_causas_texto','cotizacion','pedido_venta','orden_pos_mtto','plan_mantenimiento',\n",
    "                            'reserva_fechacarga','reserva','reservapos','material','materialdeno','ctd_nec','ctd_reduc','ctd_dif','um_base','usuario','reserva_centro','reserva_almacen','lote','fe_nece','orden_op','dest_merc','imputacion','ce_coste',\n",
    "                            'salida_fin','relevplnec','grafo','elem_pep','febase','reservaestatus','reservaimputacion','indicador_dh','reserva_pos_borrado','reserva_mov_permit','ate_accion','ate_codigosap','ate_cantidad','ate_UMB','ate_orden',\n",
    "                            'ate_fecha','valor_flota','reservasolped','detalle01','detalle02','stock_asignado','trasl_ctd_c154','trasl_ctd_c040','trasl_ctd_c080','trasl_ctd_c200','trasl_ctd_c152','trasl_fecha','Ped_nro','Ped_Fecha','Ped_ctd','Ped_proveedor','estadoreserva',\n",
    "                            'Cod_mat_antig','Grp_material','Jerarquia','total_trasl','Q_pendiente','Q_asignado','Est_material','Est_abastecimiento','Estado_Compra','tipo_Ot','semana_Ot_txt','semana_Ot','semana_lib']"
   ]
  },
  {
   "cell_type": "code",
   "execution_count": null,
   "metadata": {},
   "outputs": [],
   "source": [
    "cargar_abastecimientosin_diesel = cargar_abastecimiento[cargar_abastecimiento['material'] != 'DIESEL'].copy()"
   ]
  },
  {
   "cell_type": "code",
   "execution_count": null,
   "metadata": {},
   "outputs": [
    {
     "name": "stdout",
     "output_type": "stream",
     "text": [
      "Conexion Exitosa\n",
      "Se insertaron: 10730 registros. en la tabla tbl_abastecimiento\n"
     ]
    }
   ],
   "source": [
    "connection = crear_conexion()\n",
    "consult_data(connection,\"truncate table tbl_abastecimiento\")\n",
    "insert_data(connection,'tbl_abastecimiento',cargar_abastecimientosin_diesel,cabezera_abastecimiento,1000)"
   ]
  },
  {
   "cell_type": "code",
   "execution_count": null,
   "metadata": {},
   "outputs": [],
   "source": [
    "connection = crear_conexion()\n",
    "insert_data(connection,'tbl_abastecimiento_hist',cargar_abastecimientosin_diesel,cabezera_abastecimiento,1000)"
   ]
  },
  {
   "cell_type": "code",
   "execution_count": 93,
   "metadata": {},
   "outputs": [
    {
     "data": {
      "text/plain": [
       "307"
      ]
     },
     "execution_count": 93,
     "metadata": {},
     "output_type": "execute_result"
    }
   ],
   "source": [
    "len(cargar_abastecimiento.loc[cargar_abastecimiento['ate_accion']=='FIN'])  "
   ]
  },
  {
   "cell_type": "markdown",
   "metadata": {},
   "source": []
  }
 ],
 "metadata": {
  "kernelspec": {
   "display_name": ".venv",
   "language": "python",
   "name": "python3"
  },
  "language_info": {
   "codemirror_mode": {
    "name": "ipython",
    "version": 3
   },
   "file_extension": ".py",
   "mimetype": "text/x-python",
   "name": "python",
   "nbconvert_exporter": "python",
   "pygments_lexer": "ipython3",
   "version": "3.12.5"
  }
 },
 "nbformat": 4,
 "nbformat_minor": 2
}
