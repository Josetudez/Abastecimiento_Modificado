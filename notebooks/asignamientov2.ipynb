{
 "cells": [
  {
   "cell_type": "code",
   "execution_count": 1,
   "metadata": {},
   "outputs": [],
   "source": [
    "# Configurar el path para importar los módulos\n",
    "import sys\n",
    "import os\n",
    "\n",
    "# Añadir el directorio raíz del proyecto al path\n",
    "root_dir = os.chdir(os.path.abspath(os.path.join(os.getcwd(), '..')))\n",
    "if root_dir not in sys.path:\n",
    "    sys.path.append(root_dir)"
   ]
  },
  {
   "cell_type": "code",
   "execution_count": 2,
   "metadata": {},
   "outputs": [],
   "source": [
    "# Importar las funciones necesarias\n",
    "from db.conexion_db import crear_conexion, cerrar_conexion\n",
    "from db.querys_db import insert_data, consult_data,procedure_data,procedure_data_param\n",
    "from abastecimientov2 import reservas_avisorden_ordenes\n",
    "from datetime import datetime, timedelta\n",
    "import pandas as pd\n",
    "import numpy as np"
   ]
  },
  {
   "cell_type": "code",
   "execution_count": 3,
   "metadata": {},
   "outputs": [
    {
     "data": {
      "text/plain": [
       "'\\nconnection = crear_conexion()\\nprocedure_data(connection,\"abastece_plan_reservas\")\\nprocedure_data(connection,\"abastece_plan_avisorden\")\\nprocedure_data(connection,\"abastece_plan_ordenes\")\\nprocedure_data(connection,\\'abastece_plan_flota\\')\\nprocedure_data_param(connection, \"abastece_plan_pedidospendiente\", (\\'2025-01-01\\',))   \\ncerrar_conexion(connection)\\n\\n'"
      ]
     },
     "execution_count": 3,
     "metadata": {},
     "output_type": "execute_result"
    }
   ],
   "source": [
    "\"\"\"\n",
    "connection = crear_conexion()\n",
    "procedure_data(connection,\"abastece_plan_reservas\")\n",
    "procedure_data(connection,\"abastece_plan_avisorden\")\n",
    "procedure_data(connection,\"abastece_plan_ordenes\")\n",
    "procedure_data(connection,'abastece_plan_flota')\n",
    "procedure_data_param(connection, \"abastece_plan_pedidospendiente\", ('2025-01-01',))   \n",
    "cerrar_conexion(connection)\n",
    "\n",
    "\"\"\""
   ]
  },
  {
   "cell_type": "code",
   "execution_count": 4,
   "metadata": {},
   "outputs": [
    {
     "data": {
      "text/plain": [
       "'\\nconnection = crear_conexion()\\nprocedure_data(connection,\"abastece_plan_inv_mb52\")       \\ncerrar_conexion(connection)     \\n'"
      ]
     },
     "execution_count": 4,
     "metadata": {},
     "output_type": "execute_result"
    }
   ],
   "source": [
    "\"\"\"\n",
    "connection = crear_conexion()\n",
    "procedure_data(connection,\"abastece_plan_inv_mb52\")       \n",
    "cerrar_conexion(connection)     \n",
    "\"\"\"                                                                                                                                                                                                                                                                                                                                                                                                                                                                                                                                                                                                                                                                                                                                                                                                                                                                                                                                                                                                                                                                      "
   ]
  },
  {
   "cell_type": "code",
   "execution_count": 5,
   "metadata": {},
   "outputs": [
    {
     "name": "stdout",
     "output_type": "stream",
     "text": [
      "Conexion Exitosa\n",
      "conexion cerrada\n"
     ]
    }
   ],
   "source": [
    "connection = crear_conexion()\n",
    "reservas = reservas_avisorden_ordenes(connection)\n",
    "cerrar_conexion(connection)"
   ]
  },
  {
   "cell_type": "code",
   "execution_count": 6,
   "metadata": {},
   "outputs": [
    {
     "name": "stdout",
     "output_type": "stream",
     "text": [
      "Conexion Exitosa\n",
      "conexion cerrada\n"
     ]
    }
   ],
   "source": [
    "connection = crear_conexion()\n",
    "flota = consult_data(connection,f\"select equipo,linegnombre from plan_flota\")\n",
    "cerrar_conexion(connection)"
   ]
  },
  {
   "cell_type": "code",
   "execution_count": 7,
   "metadata": {},
   "outputs": [],
   "source": [
    "ordenes = pd.read_excel('OC_CGM.xlsx')"
   ]
  },
  {
   "cell_type": "code",
   "execution_count": 8,
   "metadata": {},
   "outputs": [],
   "source": [
    "ordenes = ordenes[['OC','Material']]"
   ]
  },
  {
   "cell_type": "code",
   "execution_count": 9,
   "metadata": {},
   "outputs": [],
   "source": [
    "ordenes['llave'] = ordenes['OC'].astype(str) + ordenes['Material'].astype(str)"
   ]
  },
  {
   "cell_type": "code",
   "execution_count": 10,
   "metadata": {},
   "outputs": [
    {
     "name": "stdout",
     "output_type": "stream",
     "text": [
      "Conexion Exitosa\n",
      "conexion cerrada\n"
     ]
    }
   ],
   "source": [
    "connection = crear_conexion()\n",
    "estado_pedidosxpendiente = consult_data(connection,f\"select * from plan_pedidospendientes_resumen\")\n",
    "cerrar_conexion(connection)"
   ]
  },
  {
   "cell_type": "code",
   "execution_count": 11,
   "metadata": {},
   "outputs": [
    {
     "name": "stdout",
     "output_type": "stream",
     "text": [
      "Conexion Exitosa\n",
      "conexion cerrada\n"
     ]
    }
   ],
   "source": [
    "pl_inventarioMB52 = \"plan_inventario_resumen\"\n",
    "connection = crear_conexion()\n",
    "planinventarioresumen = consult_data(connection,f\"select material,centro,total from {pl_inventarioMB52}\")\n",
    "cerrar_conexion(connection)"
   ]
  },
  {
   "cell_type": "code",
   "execution_count": 12,
   "metadata": {},
   "outputs": [],
   "source": [
    "tbl_inventario = pd.DataFrame(planinventarioresumen)\n",
    "tbl_flota = pd.DataFrame(flota)\n",
    "tbl_estado_pedidosxpendiente = pd.DataFrame(estado_pedidosxpendiente)"
   ]
  },
  {
   "cell_type": "code",
   "execution_count": 13,
   "metadata": {},
   "outputs": [],
   "source": [
    "tbl_estado_pedidosxpendiente['llave'] = tbl_estado_pedidosxpendiente['doc_compra'].astype(str) + tbl_estado_pedidosxpendiente['material'].astype(str)"
   ]
  },
  {
   "cell_type": "code",
   "execution_count": 14,
   "metadata": {},
   "outputs": [],
   "source": [
    "materiales = tbl_estado_pedidosxpendiente.loc[(tbl_estado_pedidosxpendiente['llave'].isin(ordenes['llave']))]"
   ]
  },
  {
   "cell_type": "code",
   "execution_count": 15,
   "metadata": {},
   "outputs": [],
   "source": [
    "materiales = materiales[['material','centro','por_entr_ctd']]"
   ]
  },
  {
   "cell_type": "code",
   "execution_count": 16,
   "metadata": {},
   "outputs": [],
   "source": [
    "materiales.rename(columns={'por_entr_ctd': 'total'}, inplace=True)"
   ]
  },
  {
   "cell_type": "code",
   "execution_count": 17,
   "metadata": {},
   "outputs": [],
   "source": [
    "tbl_inventario_xmateriales = pd.concat([tbl_inventario, materiales], axis=0) "
   ]
  },
  {
   "cell_type": "code",
   "execution_count": 18,
   "metadata": {},
   "outputs": [],
   "source": [
    "tbl_inventario_resumen = tbl_inventario_xmateriales.groupby(['material','centro']).sum().reset_index()"
   ]
  },
  {
   "cell_type": "code",
   "execution_count": 19,
   "metadata": {},
   "outputs": [],
   "source": [
    "tbl_estado_pedidosxpendiente = tbl_estado_pedidosxpendiente.loc[~(tbl_estado_pedidosxpendiente['llave'].isin(ordenes['llave']))]"
   ]
  },
  {
   "cell_type": "code",
   "execution_count": 20,
   "metadata": {},
   "outputs": [],
   "source": [
    "\n",
    "tbl_estado_pedidosxpendiente['identificador'] = tbl_estado_pedidosxpendiente['doc_compra'] + tbl_estado_pedidosxpendiente['pos']"
   ]
  },
  {
   "cell_type": "code",
   "execution_count": 21,
   "metadata": {},
   "outputs": [],
   "source": [
    "filtrar_cabezeras_estadoxpedidos = tbl_estado_pedidosxpendiente[['identificador','doc_compra','material','centro','por_entr_ctd','fecha_entrega','nombre_proveedor']].copy()\n",
    "tbl_inventario_resumen['total'] = tbl_inventario_resumen['total'].astype(float)\n",
    "filtrar_cabezeras_estadoxpedidos['por_entr_ctd'] = filtrar_cabezeras_estadoxpedidos['por_entr_ctd'].astype(float)\n",
    "filtrar_cabezeras_estadoxpedidos['fecha_entrega'] = pd.to_datetime(filtrar_cabezeras_estadoxpedidos['fecha_entrega'])\n",
    "filtrar_cabezeras_estadoxpedidos['nombre_proveedor'] = filtrar_cabezeras_estadoxpedidos['nombre_proveedor'].str[0:10]"
   ]
  },
  {
   "cell_type": "code",
   "execution_count": 22,
   "metadata": {},
   "outputs": [],
   "source": [
    "reservasCxC = reservas.loc[(reservas['ate_accion']=='MERCADERIA') & (reservas['ctd_dif'] > 0) ]\n",
    "filtrar_cabezeras_reservasCxC = reservasCxC[['index','identificador','material','centro_x','ctd_dif','stock_asignado','trasl_ctd_C154','trasl_ctd_C040',\n",
    "                                             'trasl_ctd_C080','trasl_ctd_C200','trasl_ctd_C152','trasl_fecha','Ped_nro','Ped_Fecha','Ped_ctd','Ped_proveedor']].copy()"
   ]
  },
  {
   "cell_type": "code",
   "execution_count": 23,
   "metadata": {},
   "outputs": [],
   "source": [
    "filtrar_cabezeras_estadoxpedidos.columns = filtrar_cabezeras_estadoxpedidos.columns.str.lower()\n",
    "filtrar_cabezeras_reservasCxC.rename(columns={'centro_x' : 'centro'},inplace=True)"
   ]
  },
  {
   "cell_type": "code",
   "execution_count": 24,
   "metadata": {},
   "outputs": [],
   "source": [
    "filtrar_cabezeras_estadoxpedidos.loc[:,'material'] = filtrar_cabezeras_estadoxpedidos.loc[:,'material'].str.replace(' ','')\n",
    "tbl_inventario_resumen.loc[:,'material'] = tbl_inventario_resumen.loc[:,'material'].str.replace(' ','')\n",
    "filtrar_cabezeras_reservasCxC.loc[:,'material'] = filtrar_cabezeras_reservasCxC.loc[:,'material'].str.replace(' ','')"
   ]
  },
  {
   "cell_type": "code",
   "execution_count": 25,
   "metadata": {},
   "outputs": [],
   "source": [
    "tbl_inventario_resumen['identificador'] = tbl_inventario_resumen['material'] + tbl_inventario_resumen['centro']"
   ]
  },
  {
   "cell_type": "code",
   "execution_count": 26,
   "metadata": {},
   "outputs": [],
   "source": [
    "def _asign_stock_centros(reservas_grupo, inventario_grupo):\n",
    "    # Obtener el stock disponible para el grupo\n",
    "    stock_disponible = inventario_grupo['total'].iloc[0]\n",
    "    \n",
    "    # Inicializar la cantidad asignada\n",
    "    cantidad_asignada = []\n",
    "    stock_restante = stock_disponible\n",
    "    \n",
    "    # Calcular la cantidad asignada para cada reserva\n",
    "    for ctd_dif in reservas_grupo['ctd_dif']:\n",
    "        if stock_restante <= 0:\n",
    "            # Si no hay stock disponible, asignar 0\n",
    "            cantidad_asignada.append(0.0)\n",
    "        else:\n",
    "            # Asignar la cantidad mínima entre lo pedido y el stock restante\n",
    "            asignacion = min(ctd_dif, stock_restante)\n",
    "            cantidad_asignada.append(asignacion)\n",
    "            stock_restante -= asignacion\n",
    "    \n",
    "    # Asignar la cantidad ajustada usando .loc para evitar SettingWithCopyWarning\n",
    "    reservas_grupo.loc[:, 'stock_asignado'] = cantidad_asignada\n",
    "    \n",
    "    # Actualizar el inventario restante\n",
    "    inventario_grupo.loc[:, 'total'] = stock_restante\n",
    "    \n",
    "    return reservas_grupo, inventario_grupo"
   ]
  },
  {
   "cell_type": "code",
   "execution_count": 27,
   "metadata": {},
   "outputs": [],
   "source": [
    "def asignar_stock_centroxcentro(reservas, inventario):\n",
    "    # Asegurarse de que las reservas estén ordenadas por la columna 'index'\n",
    "    reservas = reservas.sort_values(by='index')\n",
    "    \n",
    "    # Listas para almacenar resultados\n",
    "    reservas_actualizadas = []\n",
    "    inventario_actualizado = []\n",
    "    \n",
    "    # Agrupar por 'centro' y 'material'\n",
    "    grupos = reservas.groupby(['centro', 'material'])\n",
    "    \n",
    "    for (centro, material), reservas_grupo in grupos:\n",
    "        # Filtrar el inventario para el grupo actual\n",
    "        inventario_grupo = inventario[(inventario['centro'] == centro) & (inventario['material'] == material)]\n",
    "        \n",
    "        if not inventario_grupo.empty:\n",
    "            # Procesar el grupo\n",
    "            reservas_procesadas, inventario_procesado = _asign_stock_centros(reservas_grupo, inventario_grupo)\n",
    "            reservas_actualizadas.append(reservas_procesadas)\n",
    "            inventario_actualizado.append(inventario_procesado)\n",
    "        else:\n",
    "            # Si no hay inventario, mantener las reservas sin cambios\n",
    "            reservas_actualizadas.append(reservas_grupo)\n",
    "    \n",
    "    # Concatenar resultados\n",
    "    reservas_final = pd.concat(reservas_actualizadas, ignore_index=True)\n",
    "    inventario_final = pd.concat(inventario_actualizado, ignore_index=True)\n",
    "    \n",
    "    return reservas_final, inventario_final"
   ]
  },
  {
   "cell_type": "code",
   "execution_count": 28,
   "metadata": {},
   "outputs": [],
   "source": [
    "pedido_modif, inv_modif = asignar_stock_centroxcentro(filtrar_cabezeras_reservasCxC,tbl_inventario_resumen)"
   ]
  },
  {
   "cell_type": "code",
   "execution_count": 29,
   "metadata": {},
   "outputs": [],
   "source": [
    "obtener_stockasignado = pedido_modif[['identificador','stock_asignado']]\n",
    "obtener_stock_modificado = inv_modif[['identificador','total']]"
   ]
  },
  {
   "cell_type": "code",
   "execution_count": 30,
   "metadata": {},
   "outputs": [],
   "source": [
    "modificar_stockasignado_reservas = filtrar_cabezeras_reservasCxC.merge(obtener_stockasignado,how='left',on='identificador')\n",
    "modificar_stock_inventario = tbl_inventario_resumen.merge(obtener_stock_modificado,how='left',on='identificador')"
   ]
  },
  {
   "cell_type": "code",
   "execution_count": 31,
   "metadata": {},
   "outputs": [],
   "source": [
    "modificar_stockasignado_reservas.drop(columns='stock_asignado_x', inplace=True)\n",
    "modificar_stockasignado_reservas.rename(columns={'stock_asignado_y' : 'stock_asignado'}, inplace=True)"
   ]
  },
  {
   "cell_type": "code",
   "execution_count": 32,
   "metadata": {},
   "outputs": [],
   "source": [
    "modificar_stockasignado_reservas['diferencia'] = modificar_stockasignado_reservas['ctd_dif'] - modificar_stockasignado_reservas['stock_asignado']\n",
    "reservas_pendientes = modificar_stockasignado_reservas.loc[modificar_stockasignado_reservas['diferencia'] >0].copy()\n",
    "\n",
    "reservas_pendientes.drop(columns='diferencia', inplace=True)\n",
    "modificar_stockasignado_reservas.drop(columns='diferencia', inplace=True)\n"
   ]
  },
  {
   "cell_type": "code",
   "execution_count": 33,
   "metadata": {},
   "outputs": [],
   "source": [
    "reservas_pendientes['total'] = reservas_pendientes['stock_asignado']\n",
    "modificar_stockasignado_reservas['total'] = modificar_stockasignado_reservas['stock_asignado']"
   ]
  },
  {
   "cell_type": "code",
   "execution_count": 34,
   "metadata": {},
   "outputs": [],
   "source": [
    "modificar_stock_inventario.loc[modificar_stock_inventario['total_y'].isna(), 'total_y'] = modificar_stock_inventario['total_x']\n",
    "modificar_stock_inventario['total'] = modificar_stock_inventario['total_y']\n",
    "modificar_stock_inventario.drop(columns={'total_x','total_y'}, inplace= True)"
   ]
  },
  {
   "cell_type": "code",
   "execution_count": 35,
   "metadata": {},
   "outputs": [],
   "source": [
    "stock_restante = modificar_stock_inventario.loc[modificar_stock_inventario['total'] > 0].copy()"
   ]
  },
  {
   "cell_type": "code",
   "execution_count": 36,
   "metadata": {},
   "outputs": [],
   "source": [
    "def _asign_pedidos_compra(reservas, pedidospendiente):\n",
    "    # Ordenar los pedidos pendientes\n",
    "    ped = pedidospendiente.sort_values(by=['fecha_entrega', 'identificador'], ascending=[True, True], na_position='last')\n",
    "\n",
    "    # Proceso de asignación\n",
    "    for i, reser in reservas.iterrows():\n",
    "        cantidad_pedida = reser['ctd_dif'] - reser['total']\n",
    "        compras_consolidadas = []\n",
    "        fechas_consolidadas = []\n",
    "        cantidades_consolidadas = []\n",
    "        proveedor_consolidadas = []\n",
    "\n",
    "        for j, pedi in ped.iterrows():\n",
    "            if pedi['por_entr_ctd'] > 0:\n",
    "                if pedi['por_entr_ctd'] >= cantidad_pedida:\n",
    "                    compras_consolidadas.append(pedi['doc_compra'])\n",
    "                    fechas_consolidadas.append(pedi['fecha_entrega'])\n",
    "                    proveedor_consolidadas.append(pedi['nombre_proveedor'])\n",
    "                    cantidades_consolidadas.append(cantidad_pedida)\n",
    "                    ped.at[j, 'por_entr_ctd'] -= cantidad_pedida\n",
    "                    cantidad_pedida = 0\n",
    "                    break\n",
    "                else:\n",
    "                    compras_consolidadas.append(pedi['doc_compra'])\n",
    "                    fechas_consolidadas.append(pedi['fecha_entrega'])\n",
    "                    proveedor_consolidadas.append(pedi['nombre_proveedor'])\n",
    "                    cantidades_consolidadas.append(pedi['por_entr_ctd'])\n",
    "                    cantidad_pedida -= pedi['por_entr_ctd']\n",
    "                    ped.at[j, 'por_entr_ctd'] = 0\n",
    "\n",
    "        reservas.at[i, 'Ped_nro'] = ', '.join(map(str, compras_consolidadas))\n",
    "        reservas.at[i, 'Ped_ctd'] = sum(cantidades_consolidadas)\n",
    "        reservas.at[i, 'Ped_proveedor'] = ', '.join(map(str, proveedor_consolidadas))\n",
    "        reservas.at[i, 'total'] = reser['total'] + sum(cantidades_consolidadas)\n",
    "        if fechas_consolidadas:\n",
    "            reservas.at[i, 'Ped_Fecha'] = fechas_consolidadas[-1]\n",
    "\n",
    "    return reservas, ped"
   ]
  },
  {
   "cell_type": "code",
   "execution_count": 37,
   "metadata": {},
   "outputs": [],
   "source": [
    "def asignacion_pedidoscompra(reservas, pedidoscompras):\n",
    "    reserva = reservas.copy()\n",
    "    pedidoscompra = pedidoscompras.copy()\n",
    "\n",
    "    centros = pedidoscompra['centro'].unique()\n",
    "    materiales = pedidoscompra['material'].unique()\n",
    "\n",
    "    concatenar_reservas = []\n",
    "\n",
    "    for centro in centros:\n",
    "        for material in materiales:\n",
    "            pedido_m = reserva[(reserva['centro'] == centro) & (reserva['material'] == material)]\n",
    "            pedidos_filtrados = pedidoscompra[(pedidoscompra['centro'] == centro) & (pedidoscompra['material'] == material)]\n",
    "            if not pedidos_filtrados.empty:\n",
    "                _reservas, _pedidos = _asign_pedidos_compra(pedido_m, pedidos_filtrados)\n",
    "                concatenar_reservas.append(_reservas)\n",
    "                pedidoscompra.update(_pedidos)\n",
    "\n",
    "    pedidos_consolidados = pd.concat(concatenar_reservas)\n",
    "\n",
    "    return pedidos_consolidados, pedidoscompra"
   ]
  },
  {
   "cell_type": "code",
   "execution_count": 38,
   "metadata": {},
   "outputs": [],
   "source": [
    "pedido_modif7,pedidoscompra_modif = asignacion_pedidoscompra(reservas_pendientes, filtrar_cabezeras_estadoxpedidos)"
   ]
  },
  {
   "cell_type": "code",
   "execution_count": 39,
   "metadata": {},
   "outputs": [],
   "source": [
    "fil_pedido_modif7 = pedido_modif7[['identificador','Ped_nro','Ped_Fecha','Ped_ctd','Ped_proveedor','total']]\n",
    "fil_pedidoscompra =pedidoscompra_modif.loc[pedidoscompra_modif['por_entr_ctd'] >0]"
   ]
  },
  {
   "cell_type": "code",
   "execution_count": 40,
   "metadata": {},
   "outputs": [],
   "source": [
    "agregar_pedidosxreservas = modificar_stockasignado_reservas.merge(fil_pedido_modif7,how='left', on='identificador')"
   ]
  },
  {
   "cell_type": "code",
   "execution_count": 41,
   "metadata": {},
   "outputs": [],
   "source": [
    "agregar_pedidosxreservas.loc[agregar_pedidosxreservas['Ped_nro_y'].isna(), 'Ped_nro_y'] = agregar_pedidosxreservas['Ped_nro_x']\n",
    "agregar_pedidosxreservas.loc[agregar_pedidosxreservas['Ped_Fecha_y'].isna(), 'Ped_Fecha_y'] = agregar_pedidosxreservas['Ped_Fecha_x']\n",
    "agregar_pedidosxreservas.loc[agregar_pedidosxreservas['Ped_ctd_y'].isna(), 'Ped_ctd_y'] = agregar_pedidosxreservas['Ped_ctd_x']\n",
    "agregar_pedidosxreservas.loc[agregar_pedidosxreservas['Ped_proveedor_y'].isna(), 'Ped_proveedor_y'] = agregar_pedidosxreservas['Ped_proveedor_x']\n",
    "agregar_pedidosxreservas.loc[agregar_pedidosxreservas['total_y'].isna(), 'total_y'] = agregar_pedidosxreservas['total_x']"
   ]
  },
  {
   "cell_type": "code",
   "execution_count": 42,
   "metadata": {},
   "outputs": [],
   "source": [
    "agregar_pedidosxreservas['Ped_nro'] = agregar_pedidosxreservas['Ped_nro_y']\n",
    "agregar_pedidosxreservas['Ped_Fecha'] = agregar_pedidosxreservas['Ped_Fecha_y']\n",
    "agregar_pedidosxreservas['Ped_ctd'] = agregar_pedidosxreservas['Ped_ctd_y']\n",
    "agregar_pedidosxreservas['Ped_proveedor'] = agregar_pedidosxreservas['Ped_proveedor_y']\n",
    "agregar_pedidosxreservas['total'] = agregar_pedidosxreservas['total_y']\n",
    "\n",
    "agregar_pedidosxreservas.drop(columns=['Ped_nro_y','Ped_nro_x'], inplace=True)\n",
    "agregar_pedidosxreservas.drop(columns=['Ped_Fecha_y','Ped_Fecha_x'], inplace=True)\n",
    "agregar_pedidosxreservas.drop(columns=['Ped_ctd_y','Ped_ctd_x'], inplace=True)\n",
    "agregar_pedidosxreservas.drop(columns=['Ped_proveedor_y','Ped_proveedor_x'], inplace=True)\n",
    "agregar_pedidosxreservas.drop(columns=['total_y','total_x'], inplace=True)\n"
   ]
  },
  {
   "cell_type": "code",
   "execution_count": 43,
   "metadata": {},
   "outputs": [],
   "source": [
    "fil_reserv = agregar_pedidosxreservas[['identificador','stock_asignado','trasl_ctd_C154','trasl_ctd_C152','trasl_ctd_C200','trasl_ctd_C040','trasl_ctd_C080','Ped_nro','Ped_Fecha','Ped_ctd','Ped_proveedor','total']]"
   ]
  },
  {
   "cell_type": "code",
   "execution_count": 44,
   "metadata": {},
   "outputs": [],
   "source": [
    "stock_restante_pivot = stock_restante.pivot_table(index='material',columns='centro', values='total', aggfunc='sum').reset_index()"
   ]
  },
  {
   "cell_type": "code",
   "execution_count": 45,
   "metadata": {},
   "outputs": [],
   "source": [
    "abas_reservas = reservas.merge(fil_reserv, how='left', on='identificador')"
   ]
  },
  {
   "cell_type": "code",
   "execution_count": 46,
   "metadata": {},
   "outputs": [],
   "source": [
    "abastecimiento_reservas = abas_reservas.merge(stock_restante_pivot, how='left', on='material')"
   ]
  },
  {
   "cell_type": "code",
   "execution_count": 47,
   "metadata": {},
   "outputs": [],
   "source": [
    "abastecimiento_reservas['total_trasl'] = 0"
   ]
  },
  {
   "cell_type": "code",
   "execution_count": 48,
   "metadata": {},
   "outputs": [],
   "source": [
    "abastecimiento_reservas.loc[abastecimiento_reservas['stock_asignado_y'].isna(), 'stock_asignado_y'] = abastecimiento_reservas['stock_asignado_x']\n",
    "abastecimiento_reservas.loc[abastecimiento_reservas['trasl_ctd_C154_y'].isna(), 'trasl_ctd_C154_y'] = abastecimiento_reservas['trasl_ctd_C154_x']\n",
    "abastecimiento_reservas.loc[abastecimiento_reservas['trasl_ctd_C152_y'].isna(), 'trasl_ctd_C152_y'] = abastecimiento_reservas['trasl_ctd_C152_x']\n",
    "abastecimiento_reservas.loc[abastecimiento_reservas['trasl_ctd_C200_y'].isna(), 'trasl_ctd_C200_y'] = abastecimiento_reservas['trasl_ctd_C200_x']\n",
    "abastecimiento_reservas.loc[abastecimiento_reservas['trasl_ctd_C040_y'].isna(), 'trasl_ctd_C040_y'] = abastecimiento_reservas['trasl_ctd_C040_x']\n",
    "abastecimiento_reservas.loc[abastecimiento_reservas['trasl_ctd_C080_y'].isna(), 'trasl_ctd_C080_y'] = abastecimiento_reservas['trasl_ctd_C080_x']\n",
    "abastecimiento_reservas.loc[abastecimiento_reservas['Ped_nro_y'].isna(), 'Ped_nro_y'] = abastecimiento_reservas['Ped_nro_x']\n",
    "abastecimiento_reservas.loc[abastecimiento_reservas['Ped_Fecha_y'].isna(), 'Ped_Fecha_y'] = abastecimiento_reservas['Ped_Fecha_x']\n",
    "abastecimiento_reservas.loc[abastecimiento_reservas['Ped_ctd_y'].isna(), 'Ped_ctd_y'] = abastecimiento_reservas['Ped_ctd_x']\n",
    "abastecimiento_reservas.loc[abastecimiento_reservas['Ped_proveedor_y'].isna(), 'Ped_proveedor_y'] = abastecimiento_reservas['Ped_proveedor_x']\n",
    "abastecimiento_reservas.loc[abastecimiento_reservas['total'].isna(), 'total'] = 0\n",
    "abastecimiento_reservas.loc[abastecimiento_reservas['total_trasl'].isna(), 'total_trasl'] = 0\n"
   ]
  },
  {
   "cell_type": "code",
   "execution_count": 49,
   "metadata": {},
   "outputs": [],
   "source": [
    "abastecimiento_reservas['stock_asignado'] = abastecimiento_reservas['stock_asignado_y']\n",
    "abastecimiento_reservas['trasl_ctd_C154'] = abastecimiento_reservas['trasl_ctd_C154_y']\n",
    "abastecimiento_reservas['trasl_ctd_C152'] = abastecimiento_reservas['trasl_ctd_C152_y']\n",
    "abastecimiento_reservas['trasl_ctd_C200'] = abastecimiento_reservas['trasl_ctd_C200_y']\n",
    "abastecimiento_reservas['trasl_ctd_C040'] = abastecimiento_reservas['trasl_ctd_C040_y']\n",
    "abastecimiento_reservas['trasl_ctd_C080'] = abastecimiento_reservas['trasl_ctd_C080_y']\n",
    "\n",
    "abastecimiento_reservas['Ped_nro'] = abastecimiento_reservas['Ped_nro_y']\n",
    "abastecimiento_reservas['Ped_Fecha'] = abastecimiento_reservas['Ped_Fecha_y']\n",
    "abastecimiento_reservas['Ped_ctd'] = abastecimiento_reservas['Ped_ctd_y']\n",
    "abastecimiento_reservas['Ped_proveedor'] = abastecimiento_reservas['Ped_proveedor_y']\n",
    "\n",
    "abastecimiento_reservas.drop(columns=['stock_asignado_y','stock_asignado_x'], inplace=True)\n",
    "abastecimiento_reservas.drop(columns=['trasl_ctd_C154_y','trasl_ctd_C154_x'], inplace=True)\n",
    "abastecimiento_reservas.drop(columns=['trasl_ctd_C152_y','trasl_ctd_C152_x'], inplace=True)\n",
    "abastecimiento_reservas.drop(columns=['trasl_ctd_C200_y','trasl_ctd_C200_x'], inplace=True)\n",
    "abastecimiento_reservas.drop(columns=['trasl_ctd_C040_y','trasl_ctd_C040_x'], inplace=True)\n",
    "abastecimiento_reservas.drop(columns=['trasl_ctd_C080_y','trasl_ctd_C080_x'], inplace=True)\n",
    "\n",
    "abastecimiento_reservas.drop(columns=['Ped_nro_y','Ped_nro_x'], inplace=True)\n",
    "abastecimiento_reservas.drop(columns=['Ped_Fecha_y','Ped_Fecha_x'], inplace=True)\n",
    "abastecimiento_reservas.drop(columns=['Ped_ctd_y','Ped_ctd_x'], inplace=True)\n",
    "abastecimiento_reservas.drop(columns=['Ped_proveedor_y','Ped_proveedor_x'], inplace=True)"
   ]
  },
  {
   "cell_type": "code",
   "execution_count": 50,
   "metadata": {},
   "outputs": [],
   "source": [
    "abastecimiento_reservas['trasl_ctd_C154'] = abastecimiento_reservas['C154']\n",
    "abastecimiento_reservas['trasl_ctd_C152'] = abastecimiento_reservas['C152']\n",
    "abastecimiento_reservas['trasl_ctd_C200'] = abastecimiento_reservas['C200']\n",
    "abastecimiento_reservas['trasl_ctd_C040'] = abastecimiento_reservas['C040']\n",
    "abastecimiento_reservas['trasl_ctd_C080'] = abastecimiento_reservas['C080']"
   ]
  },
  {
   "cell_type": "code",
   "execution_count": 51,
   "metadata": {},
   "outputs": [],
   "source": [
    "abastecimiento_reservas.drop(columns=['C154'], inplace=True)\n",
    "abastecimiento_reservas.drop(columns=['C152'], inplace=True)\n",
    "abastecimiento_reservas.drop(columns=['C200'], inplace=True)\n",
    "abastecimiento_reservas.drop(columns=['C040'], inplace=True)\n",
    "abastecimiento_reservas.drop(columns=['C080'], inplace=True)\n"
   ]
  },
  {
   "cell_type": "code",
   "execution_count": 52,
   "metadata": {},
   "outputs": [],
   "source": [
    "abastecimiento_reservas['Q_pendiente'] = abastecimiento_reservas['ctd_dif'] - abastecimiento_reservas['total'] "
   ]
  },
  {
   "cell_type": "code",
   "execution_count": 53,
   "metadata": {},
   "outputs": [],
   "source": [
    "abastecimiento_reservas['Est_material'] = ''\n",
    "abastecimiento_reservas['Est_abastecimiento'] = ''\n",
    "abastecimiento_reservas.loc[abastecimiento_reservas['Q_pendiente'] == 0,'Est_material'] = 'Completo'\n",
    "abastecimiento_reservas.loc[abastecimiento_reservas['Q_pendiente'] > 0,'Est_material'] = 'Faltante'\n",
    "abastecimiento_reservas.loc[(abastecimiento_reservas['Q_pendiente'] > 0) & ((abastecimiento_reservas['ctd_dif'] - abastecimiento_reservas['Q_pendiente']) != 0),'Est_material'] = 'Parcial'\n",
    "\n",
    "abastecimiento_reservas.loc[abastecimiento_reservas['Q_pendiente'] == 0,'Est_abastecimiento'] = 'Abastecido'\n",
    "abastecimiento_reservas.loc[abastecimiento_reservas['Q_pendiente'] != 0,'Est_abastecimiento'] = 'No_Abastecido'"
   ]
  },
  {
   "cell_type": "code",
   "execution_count": 54,
   "metadata": {},
   "outputs": [],
   "source": [
    "abastecimiento_reservas['Est_Compra'] = ''\n",
    "abastecimiento_reservas.loc[((abastecimiento_reservas['ctd_dif'] - abastecimiento_reservas['stock_asignado']) ==0),'Est_Compra'] = 'Total_abs_inv'\n",
    "abastecimiento_reservas.loc[( abastecimiento_reservas['Ped_ctd'] >0),'Est_Compra'] = 'Segmien_Oc'\n",
    "abastecimiento_reservas.loc[abastecimiento_reservas['Q_pendiente'] >0,'Est_Compra'] = 'Por_Pedir'"
   ]
  },
  {
   "cell_type": "code",
   "execution_count": 55,
   "metadata": {},
   "outputs": [],
   "source": [
    "abastecimiento_reservas['tipo_Ot'] = abastecimiento_reservas['orden_texto'].str[:3]\n",
    "abastecimiento_reservas['semana_Ot_txt'] = abastecimiento_reservas['orden_revision_texto'].str[-2:]\n",
    "\n",
    "abastecimiento_reservas['fe_nece'] = pd.to_datetime(abastecimiento_reservas['fe_nece'])\n",
    "abastecimiento_reservas['felib'] = pd.to_datetime(abastecimiento_reservas['felib'])\n",
    "\n",
    "abastecimiento_reservas['semana_Ot'] = abastecimiento_reservas['fe_nece'].dt.isocalendar().week\n",
    "abastecimiento_reservas['semana_lib'] = abastecimiento_reservas['felib'].dt.isocalendar().week\n"
   ]
  },
  {
   "cell_type": "code",
   "execution_count": 56,
   "metadata": {},
   "outputs": [],
   "source": [
    "abast_reservas = abastecimiento_reservas.merge(tbl_flota, how='left', on='equipo')"
   ]
  },
  {
   "cell_type": "code",
   "execution_count": 57,
   "metadata": {},
   "outputs": [],
   "source": [
    "abast_reservas['fechahora'] = datetime.now().strftime('%Y-%m-%d %H:%M:%S')\n"
   ]
  },
  {
   "cell_type": "code",
   "execution_count": 58,
   "metadata": {},
   "outputs": [],
   "source": [
    "cargar_abastecimiento = abast_reservas.reindex(['index','fechahora','identificador','orden','felib','aviso','empldeno','zona','equipo','linegnombre','modelo','eqdescrip','repercusion','cliente','proyecto','ave_ini_fecha','ave_fin_fecha','parada',\n",
    "                                        'parada_dias','ubitec_deno','local','undneg','centro_deno','eq_est_usu_deno','flota_tipo','fe_despacho','eq_serie_motor','eq_serie_equipo','eq_est_ot_deno','clase','grupo_planif',\n",
    "                                        'cliente_nro','proyecto_nro','supres_nombre','criticidad_deno','eqvaloradq_usd','repercusiondeno','oden_clase_deno','coti_esta_deno','avisodespacho','estatususuarioorden',\n",
    "                                        'aviso_fecreado','orden_fe_fin_ext','orden_fe_ini_ext','fabricaequipo','orden_fecietec','orden_claact_deno','gruplan_deno','centro_y','eq_clase','orden_tipimput','orden_fecrea','orden_texto',\n",
    "                                        'orden_prio','prio_orden','prio_orden_texto','ot_abierto','ot_liberado','ot_cierrete','ot_cerrado','hruta_contador','hruta_grupo','aviso_prioridad_deno','aviso_clase_deno','orden_revision','orden_revision_texto','orden_causas_cod',\n",
    "                                        'orden_causas','orden_causas_texto','cotizacion','pedido_venta','orden_pos_mtto','plan_mantenimiento','fechacarga_y','reserva','reservapos','material','materialdeno','ctd_nec','ctd_reduc',\n",
    "                                        'ctd_dif','um_base','usuario','centro_x','almacen','lote','fe_nece','orden_op','dest_merc','imputacion','ce_coste','salida_fin','relevplnec','grafo','elem_pep','febase','reservaestatus','reservaimputacion',\n",
    "                                        'indicador_dh','reserva_pos_borrado','reserva_mov_permit','ate_accion','ate_codigosap','ate_cantidad','ate_UMB','ate_orden','ate_fecha','valor_flota','reservasolped','detalle01','detalle02',\n",
    "                                        'stock_asignado','trasl_ctd_C154','trasl_ctd_C040','trasl_ctd_C080','trasl_ctd_C200','trasl_ctd_C152','trasl_fecha','Ped_nro','Ped_Fecha','Ped_ctd','Ped_proveedor','estadoreserva','Cod_mate_antiguo','Grp_mat','Jerarquia_produc','total_trasl',\n",
    "                                        'Q_pendiente','total','Est_material','Est_abastecimiento','Est_Compra','tipo_Ot','semana_Ot_txt','semana_Ot','semana_lib'],axis=1)"
   ]
  },
  {
   "cell_type": "code",
   "execution_count": 59,
   "metadata": {},
   "outputs": [],
   "source": [
    "cabezera_abastecimiento = ['id','fechacarga','identificador','orden','felib','aviso','empldeno','zona','equipo','linea_negocio','modelo','eqdescrip','repercusion','cliente','proyecto','ave_ini_fecha','ave_fin_fecha','parada','parada_dias','ubitec_deno',\n",
    "                            'local','undneg','centro_deno','eq_est_usu_deno','flota_tipo','fe_despacho','eq_serie_motor','eq_serie_equipo','eq_est_ot_deno','clase','grupo_planif','cliente_nro','proyecto_nro','supres_nombre',\n",
    "                            'criticidad_deno','eqvaloradq_usd','repercusiondeno','oden_clase_deno','coti_esta_deno','avisodespacho','estatususuarioorden','aviso_fecreado','orden_fe_fin_ext','orden_fe_ini_ext','fabricaequipo',\n",
    "                            'orden_fecietec','orden_claact_deno','gruplan_deno','centro','eq_clase','orden_tipimput','orden_fecrea','orden_texto','orden_prio','prio_orden','prio_orden_texto','ot_abierto','ot_liberado','ot_cierrete','ot_cerrado','hruta_contador',\n",
    "                            'hruta_grupo','aviso_prioridad_deno','aviso_clase_deno','orden_revision','orden_revision_texto','orden_causas_cod','orden_causas','orden_causas_texto','cotizacion','pedido_venta','orden_pos_mtto','plan_mantenimiento',\n",
    "                            'reserva_fechacarga','reserva','reservapos','material','materialdeno','ctd_nec','ctd_reduc','ctd_dif','um_base','usuario','reserva_centro','reserva_almacen','lote','fe_nece','orden_op','dest_merc','imputacion','ce_coste',\n",
    "                            'salida_fin','relevplnec','grafo','elem_pep','febase','reservaestatus','reservaimputacion','indicador_dh','reserva_pos_borrado','reserva_mov_permit','ate_accion','ate_codigosap','ate_cantidad','ate_UMB','ate_orden',\n",
    "                            'ate_fecha','valor_flota','reservasolped','detalle01','detalle02','stock_asignado','trasl_ctd_c154','trasl_ctd_c040','trasl_ctd_c080','trasl_ctd_c200','trasl_ctd_c152','trasl_fecha','Ped_nro','Ped_Fecha','Ped_ctd','Ped_proveedor','estadoreserva',\n",
    "                            'Cod_mat_antig','Grp_material','Jerarquia','total_trasl','Q_pendiente','Q_asignado','Est_material','Est_abastecimiento','Estado_Compra','tipo_Ot','semana_Ot_txt','semana_Ot','semana_lib', \"dias_en_estado_actual\", \"comentarios\"]"
   ]
  },
  {
   "cell_type": "code",
   "execution_count": 60,
   "metadata": {},
   "outputs": [],
   "source": [
    "cargar_abastecimientosin_diesel = cargar_abastecimiento[cargar_abastecimiento['material'] != 'DIESEL'].copy()"
   ]
  },
  {
   "cell_type": "code",
   "execution_count": 69,
   "metadata": {},
   "outputs": [
    {
     "name": "stdout",
     "output_type": "stream",
     "text": [
      "Conexion Exitosa\n",
      "conexion cerrada\n"
     ]
    }
   ],
   "source": [
    "connection = crear_conexion()\n",
    "abastecimiento_v3 = consult_data(connection,f\"select identificador,fechacarga,Estado_Compra,dias_en_estado_actual from tbl_abastecimiento_v3\")\n",
    "cerrar_conexion(connection)"
   ]
  },
  {
   "cell_type": "code",
   "execution_count": 71,
   "metadata": {},
   "outputs": [
    {
     "name": "stdout",
     "output_type": "stream",
     "text": [
      "Conexion Exitosa\n",
      "conexion cerrada\n"
     ]
    }
   ],
   "source": [
    "connection = crear_conexion()\n",
    "comentarios = consult_data(connection,f\"select key_unica,comentarios from tbl_seguimiento_compras_VPSCIRO\")\n",
    "cerrar_conexion(connection)"
   ]
  },
  {
   "cell_type": "code",
   "execution_count": 139,
   "metadata": {},
   "outputs": [],
   "source": [
    "df_abastecimiento_v3 = pd.DataFrame(abastecimiento_v3)\n",
    "df_comentarios = pd.DataFrame(comentarios).rename(columns={'key_unica': 'identificador'})"
   ]
  },
  {
   "cell_type": "code",
   "execution_count": 122,
   "metadata": {},
   "outputs": [],
   "source": [
    "fecha_anterior = df_abastecimiento_v3['fechacarga'].dt.strftime('%Y-%m-%d').unique()"
   ]
  },
  {
   "cell_type": "code",
   "execution_count": 123,
   "metadata": {},
   "outputs": [],
   "source": [
    "fecha_actual = datetime.now().strftime('%Y-%m-%d')"
   ]
  },
  {
   "cell_type": "code",
   "execution_count": 129,
   "metadata": {},
   "outputs": [],
   "source": [
    "def fecha_cambiada(cargar_abastecimiento,abastecimiento_anterior ):\n",
    "    abastecimiento_actual = cargar_abastecimiento[[\"identificador\",\"Est_Compra\"]].copy()\n",
    "    abastecimiento_anterior = abastecimiento_anterior[[\"identificador\",\"Estado_Compra\",\"dias_en_estado_actual\"]].copy()\n",
    "\n",
    "    #prueba = abastecimiento_actual.loc[abastecimiento_actual['identificador'] == 'P73998900126468']\n",
    "    #prueba1 = abastecimiento_anterior.loc[abastecimiento_anterior['identificador'] == 'P73998900126468']\n",
    "    #print(prueba)\n",
    "    #print(prueba1)\n",
    "    abastecimiento_merged = abastecimiento_actual.merge(\n",
    "    abastecimiento_anterior,\n",
    "    on='identificador',\n",
    "    how='left')\n",
    "\n",
    "    # 2. Aplicar la lógica de actualización de 'dias_en_estado_actual'\n",
    "    abastecimiento_merged['dias_en_estado_actual'] = abastecimiento_merged.apply(\n",
    "        lambda row: 0 if row['Est_Compra'] != row['Estado_Compra']\n",
    "        else (row['dias_en_estado_actual'] + 1 if pd.notnull(row['dias_en_estado_actual']) else 0),\n",
    "        axis=1\n",
    "    )\n",
    "\n",
    "    # 3. Quedarte solo con las columnas necesarias, con nombres limpios\n",
    "    abastecimiento_actualizado = abastecimiento_merged[[\n",
    "        'identificador',\n",
    "        'dias_en_estado_actual'\n",
    "    ]]\n",
    "\n",
    "    return abastecimiento_actualizado"
   ]
  },
  {
   "cell_type": "code",
   "execution_count": 130,
   "metadata": {},
   "outputs": [],
   "source": [
    "def dentro_fecha(cargar_abastecimiento,abastecimiento_anterior ):\n",
    "    abastecimiento_actual = cargar_abastecimiento[[\"identificador\",\"Est_Compra\"]].copy()\n",
    "    abastecimiento_anterior = abastecimiento_anterior[[\"identificador\",\"Estado_Compra\",\"dias_en_estado_actual\"]].copy()\n",
    "\n",
    "    #prueba = abastecimiento_actual.loc[abastecimiento_actual['identificador'] == 'P73998900126468']\n",
    "    #prueba1 = abastecimiento_anterior.loc[abastecimiento_anterior['identificador'] == 'P73998900126468']\n",
    "    #print(prueba)\n",
    "    #print(prueba1)\n",
    "    abastecimiento_merged = abastecimiento_actual.merge(\n",
    "    abastecimiento_anterior,\n",
    "    on='identificador',\n",
    "    how='left')\n",
    "\n",
    "    # 2. Aplicar la lógica de actualización de 'dias_en_estado_actual'\n",
    "    abastecimiento_merged['dias_en_estado_actual'] = abastecimiento_merged.apply(\n",
    "        lambda row: 0 if row['Est_Compra'] != row['Estado_Compra']\n",
    "        else (row['dias_en_estado_actual'] if pd.notnull(row['dias_en_estado_actual']) else 0),\n",
    "        axis=1\n",
    "    )\n",
    "\n",
    "    # 3. Quedarte solo con las columnas necesarias, con nombres limpios\n",
    "    abastecimiento_actualizado = abastecimiento_merged[[\n",
    "        'identificador',\n",
    "        'dias_en_estado_actual'\n",
    "    ]]\n",
    "\n",
    "    return abastecimiento_actualizado"
   ]
  },
  {
   "cell_type": "code",
   "execution_count": 131,
   "metadata": {},
   "outputs": [],
   "source": [
    "if fecha_anterior < fecha_actual:\n",
    "\n",
    "    abastecimiento_actualizado = fecha_cambiada(cargar_abastecimientosin_diesel, df_abastecimiento_v3)\n",
    "elif fecha_anterior == fecha_actual:\n",
    "\n",
    "    abastecimiento_actualizado = dentro_fecha(cargar_abastecimientosin_diesel, df_abastecimiento_v3)\n",
    "else:\n",
    "    print(\"Revisar la fecha de mysql\")\n",
    "    "
   ]
  },
  {
   "cell_type": "code",
   "execution_count": 135,
   "metadata": {},
   "outputs": [],
   "source": [
    "cargaxdias = cargar_abastecimientosin_diesel.merge(abastecimiento_actualizado, how='left', on='identificador')"
   ]
  },
  {
   "cell_type": "code",
   "execution_count": 140,
   "metadata": {},
   "outputs": [],
   "source": [
    "abas_diasxcommet = cargaxdias.merge(df_comentarios, how='left', on='identificador')"
   ]
  },
  {
   "cell_type": "code",
   "execution_count": null,
   "metadata": {},
   "outputs": [
    {
     "name": "stdout",
     "output_type": "stream",
     "text": [
      "Conexion Exitosa\n",
      "Se insertaron: 6758 registros. en la tabla tbl_abastecimiento_v3\n"
     ]
    }
   ],
   "source": [
    "connection = crear_conexion()\n",
    "consult_data(connection,\"truncate table tbl_abastecimiento_v3\")\n",
    "insert_data(connection,'tbl_abastecimiento_v3',abas_diasxcommet,cabezera_abastecimiento,1000)"
   ]
  },
  {
   "cell_type": "code",
   "execution_count": 62,
   "metadata": {},
   "outputs": [
    {
     "data": {
      "text/plain": [
       "297"
      ]
     },
     "execution_count": 62,
     "metadata": {},
     "output_type": "execute_result"
    }
   ],
   "source": [
    "len(cargar_abastecimiento.loc[cargar_abastecimiento['ate_accion']=='FIN'])"
   ]
  },
  {
   "cell_type": "markdown",
   "metadata": {},
   "source": []
  }
 ],
 "metadata": {
  "kernelspec": {
   "display_name": ".venv",
   "language": "python",
   "name": "python3"
  },
  "language_info": {
   "codemirror_mode": {
    "name": "ipython",
    "version": 3
   },
   "file_extension": ".py",
   "mimetype": "text/x-python",
   "name": "python",
   "nbconvert_exporter": "python",
   "pygments_lexer": "ipython3",
   "version": "3.12.5"
  }
 },
 "nbformat": 4,
 "nbformat_minor": 2
}
